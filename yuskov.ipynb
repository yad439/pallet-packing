{
 "cells": [
  {
   "cell_type": "code",
   "execution_count": 1,
   "metadata": {
    "collapsed": true
   },
   "outputs": [],
   "source": [
    "import random"
   ]
  },
  {
   "cell_type": "code",
   "execution_count": null,
   "outputs": [],
   "source": [
    "# matplotlib notebook\n",
    "# import matplotlib\n",
    "# matplotlib.use('TkAgg')"
   ],
   "metadata": {
    "collapsed": false,
    "pycharm": {
     "name": "#%%\n"
    }
   }
  },
  {
   "cell_type": "code",
   "execution_count": 2,
   "outputs": [],
   "source": [
    "from ortools_models import task_one_model\n",
    "from skyline import skyline_decode\n",
    "from plots import draw_pallet"
   ],
   "metadata": {
    "collapsed": false,
    "pycharm": {
     "name": "#%%\n"
    }
   }
  },
  {
   "cell_type": "code",
   "execution_count": 3,
   "outputs": [
    {
     "data": {
      "text/plain": "[(4, 4, 3),\n (3, 5, 3),\n (1, 3, 5),\n (3, 2, 2),\n (2, 1, 2),\n (1, 2, 2),\n (3, 5, 4),\n (2, 5, 2),\n (3, 3, 2),\n (1, 4, 5)]"
     },
     "execution_count": 3,
     "metadata": {},
     "output_type": "execute_result"
    }
   ],
   "source": [
    "items = [(random.randint(1, 5), random.randint(1, 5), random.randint(1, 5)) for _ in range(10)]\n",
    "items"
   ],
   "metadata": {
    "collapsed": false,
    "pycharm": {
     "name": "#%%\n"
    }
   }
  },
  {
   "cell_type": "code",
   "execution_count": 4,
   "outputs": [
    {
     "data": {
      "text/plain": "(0,\n 18.0,\n 18.0,\n [(True, 0.0, 0.0, False),\n  (True, 0.0, 7.0, True),\n  (True, 0.0, 6.000000000000001, True),\n  (True, 8.0, 5.0, True),\n  (True, 8.0, 3.999999999999999, False),\n  (True, 5.0, 7.000000000000006, True),\n  (True, 3.0, 4.0, True),\n  (True, 5.0, 8.000000000000009, True),\n  (True, 5.0, 0.0, False),\n  (True, 5.0, 2.9999999999999996, True)])"
     },
     "execution_count": 4,
     "metadata": {},
     "output_type": "execute_result"
    }
   ],
   "source": [
    "exRes = task_one_model(10, 10, items, limit=30 * 1000)\n",
    "exRes"
   ],
   "metadata": {
    "collapsed": false,
    "pycharm": {
     "name": "#%%\n"
    }
   }
  },
  {
   "cell_type": "code",
   "execution_count": 5,
   "outputs": [
    {
     "data": {
      "text/plain": "(18,\n [(True, 0, 0, False),\n  (True, 5, 0, False),\n  (True, 3, 5, False),\n  (True, 0, 4, False),\n  (True, 3, 4, False),\n  (True, 2, 6, False),\n  (True, 7, 5, False),\n  (True, 8, 0, False),\n  (True, 4, 5, False),\n  (True, 4, 0, False)])"
     },
     "execution_count": 5,
     "metadata": {},
     "output_type": "execute_result"
    }
   ],
   "source": [
    "skRes = skyline_decode(10, 10, items, range(len(items)))\n",
    "skRes"
   ],
   "metadata": {
    "collapsed": false,
    "pycharm": {
     "name": "#%%\n"
    }
   }
  },
  {
   "cell_type": "code",
   "execution_count": 6,
   "outputs": [
    {
     "data": {
      "text/plain": "<Figure size 432x288 with 1 Axes>",
      "image/png": "[encoded data removed]"
     },
     "execution_count": 6,
     "metadata": {},
     "output_type": "execute_result"
    },
    {
     "data": {
      "text/plain": "<Figure size 432x288 with 1 Axes>",
      "image/png": "[encoded data removed]"
     },
     "metadata": {
      "needs_background": "light"
     },
     "output_type": "display_data"
    }
   ],
   "source": [
    "draw_pallet(10, 10, items, exRes[3])"
   ],
   "metadata": {
    "collapsed": false,
    "pycharm": {
     "name": "#%%\n"
    }
   }
  },
  {
   "cell_type": "code",
   "execution_count": 7,
   "outputs": [
    {
     "data": {
      "text/plain": "<Figure size 432x288 with 1 Axes>",
      "image/png": "[encoded data removed]"
     },
     "execution_count": 7,
     "metadata": {},
     "output_type": "execute_result"
    },
    {
     "data": {
      "text/plain": "<Figure size 432x288 with 1 Axes>",
      "image/png": "[encoded data removed]"
     },
     "metadata": {
      "needs_background": "light"
     },
     "output_type": "display_data"
    }
   ],
   "source": [
    "draw_pallet(10, 10, items, skRes[1])"
   ],
   "metadata": {
    "collapsed": false,
    "pycharm": {
     "name": "#%%\n"
    }
   }
  }
 ],
 "metadata": {
  "kernelspec": {
   "name": "python3",
   "language": "python",
   "display_name": "Python 3"
  },
  "language_info": {
   "codemirror_mode": {
    "name": "ipython",
    "version": 2
   },
   "file_extension": ".py",
   "mimetype": "text/x-python",
   "name": "python",
   "nbconvert_exporter": "python",
   "pygments_lexer": "ipython2",
   "version": "2.7.6"
  }
 },
 "nbformat": 4,
 "nbformat_minor": 0
}