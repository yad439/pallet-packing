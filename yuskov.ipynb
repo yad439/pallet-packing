{
 "cells": [
  {
   "cell_type": "code",
   "execution_count": 1,
   "metadata": {
    "collapsed": true
   },
   "outputs": [],
   "source": [
    "import random"
   ]
  },
  {
   "cell_type": "code",
   "execution_count": 2,
   "outputs": [],
   "source": [
    "# matplotlib notebook\n",
    "# import matplotlib\n",
    "# matplotlib.use('TkAgg')"
   ],
   "metadata": {
    "collapsed": false,
    "pycharm": {
     "name": "#%%\n"
    }
   }
  },
  {
   "cell_type": "code",
   "execution_count": 1,
   "outputs": [],
   "source": [
    "from common import Item\n",
    "from ortools_models import task_one_model, task_one_model_adapter\n",
    "from skyline import skyline_decode\n",
    "from plots import draw_pallet\n",
    "from metrics import print_efficiency"
   ],
   "metadata": {
    "collapsed": false,
    "pycharm": {
     "name": "#%%\n"
    }
   }
  },
  {
   "cell_type": "code",
   "execution_count": 2,
   "outputs": [],
   "source": [
    "from data_analys.data_generator import guillotine_cutting"
   ],
   "metadata": {
    "collapsed": false,
    "pycharm": {
     "name": "#%%\n"
    }
   }
  },
  {
   "cell_type": "code",
   "execution_count": 4,
   "outputs": [
    {
     "data": {
      "text/plain": "[Item(3, 3, 1),\n Item(5, 3, 2),\n Item(2, 2, 1),\n Item(4, 3, 2),\n Item(2, 2, 4),\n Item(5, 2, 3),\n Item(5, 4, 1),\n Item(5, 1, 1),\n Item(4, 4, 4),\n Item(3, 1, 2),\n Item(1, 1, 5),\n Item(4, 4, 2)]"
     },
     "execution_count": 4,
     "metadata": {},
     "output_type": "execute_result"
    }
   ],
   "source": [
    "items = [Item(random.randint(1, 5), random.randint(1, 5), random.randint(1, 5)) for _ in range(12)]\n",
    "items"
   ],
   "metadata": {
    "collapsed": false,
    "pycharm": {
     "name": "#%%\n"
    }
   }
  },
  {
   "cell_type": "code",
   "execution_count": 11,
   "outputs": [
    {
     "data": {
      "text/plain": "[Item(86, 7, None),\n Item(6, 7, None),\n Item(6, 4, None),\n Item(6, 18, None),\n Item(6, 32, None),\n Item(6, 39, None),\n Item(5, 16, None),\n Item(5, 84, None),\n Item(32, 4, None),\n Item(20, 4, None),\n Item(52, 4, None),\n Item(52, 55, None),\n Item(3, 63, None),\n Item(34, 44, None),\n Item(34, 19, None),\n Item(3, 27, None),\n Item(3, 5, None),\n Item(3, 5, None),\n Item(45, 30, None),\n Item(41, 30, None)]"
     },
     "execution_count": 11,
     "metadata": {},
     "output_type": "execute_result"
    }
   ],
   "source": [
    "H = 100\n",
    "W = 100\n",
    "items = [Item(item[2], item[3]) for item in guillotine_cutting(W, H, 20)]\n",
    "items"
   ],
   "metadata": {
    "collapsed": false,
    "pycharm": {
     "name": "#%%\n"
    }
   }
  },
  {
   "cell_type": "code",
   "execution_count": 12,
   "outputs": [
    {
     "data": {
      "text/plain": "(1,\n 15.0,\n 0.0,\n [Position(0.0, 0.0, False),\n  Position(89.0, 0.0, False),\n  Position(88.99999999999997, 96.0, False),\n  Position(89.00000000000024, 7.0, False),\n  Position(89.00000000000003, 25.000000000009795, False),\n  Position(89.0, 57.00000000000452, False),\n  Position(94.99999999999997, 0.0, False),\n  Position(95.0, 15.999999999999929, False),\n  Position(20.00000000000111, 92.00000000000024, False),\n  Position(0.0, 92.00000000000679, False),\n  Position(0.0, 96.0, False),\n  Position(0.0, 36.999999999999986, False),\n  Position(86.0, 36.99999999999987, False),\n  Position(52.000000000000554, 55.99999999999875, False),\n  Position(52.00000000000354, 36.9999999999999, False),\n  Position(85.99999999999983, 9.999999999999885, False),\n  Position(86.0, 2.0, False),\n  None,\n  Position(40.99999999999997, 7.0, False),\n  Position(0.0, 6.999999999999972, False)])"
     },
     "execution_count": 12,
     "metadata": {},
     "output_type": "execute_result"
    }
   ],
   "source": [
    "exRes = task_one_model(W, H, items, limit=2 * 60 * 1000, backend='Gurobi')\n",
    "exRes"
   ],
   "metadata": {
    "collapsed": false,
    "pycharm": {
     "name": "#%%\n"
    }
   }
  },
  {
   "cell_type": "code",
   "execution_count": 13,
   "outputs": [
    {
     "data": {
      "text/plain": "(4356,\n [Position(0, 0, False),\n  Position(86, 0, False),\n  Position(92, 0, False),\n  Position(0, 7, False),\n  Position(6, 7, False),\n  Position(16, 7, False),\n  Position(22, 7, False),\n  Position(27, 7, False),\n  Position(12, 7, True),\n  Position(32, 7, False),\n  Position(32, 11, True),\n  None,\n  Position(97, 4, False),\n  None,\n  Position(36, 38, True),\n  Position(36, 11, False),\n  Position(92, 4, True),\n  Position(39, 11, False),\n  Position(52, 7, False),\n  Position(56, 37, False)])"
     },
     "execution_count": 13,
     "metadata": {},
     "output_type": "execute_result"
    }
   ],
   "source": [
    "skRes = skyline_decode(W, H, items, range(len(items)))\n",
    "skRes"
   ],
   "metadata": {
    "collapsed": false,
    "pycharm": {
     "name": "#%%\n"
    }
   }
  },
  {
   "cell_type": "code",
   "execution_count": 17,
   "outputs": [
    {
     "data": {
      "text/plain": "(316,\n [Position(86, 0, True),\n  Position(93, 0, True),\n  Position(86, 86, False),\n  None,\n  Position(36, 60, False),\n  Position(30, 55, False),\n  Position(36, 55, True),\n  Position(93, 6, False),\n  None,\n  None,\n  Position(36, 93, False),\n  Position(0, 0, False),\n  Position(0, 97, True),\n  Position(52, 0, False),\n  Position(52, 44, False),\n  Position(83, 63, False),\n  Position(47, 60, True),\n  Position(42, 60, True),\n  Position(0, 55, True),\n  Position(42, 63, False)])"
     },
     "execution_count": 17,
     "metadata": {},
     "output_type": "execute_result"
    }
   ],
   "source": [
    "order=list(range(len(items)))\n",
    "order.sort(key=lambda i:items[i].height*items[i].width,reverse=True)\n",
    "skRes2 = skyline_decode(W, H, items, order)\n",
    "skRes2"
   ],
   "metadata": {
    "collapsed": false,
    "pycharm": {
     "name": "#%%\n"
    }
   }
  },
  {
   "cell_type": "code",
   "execution_count": 14,
   "outputs": [
    {
     "data": {
      "text/plain": "<Figure size 432x288 with 1 Axes>",
      "image/png": "[encoded data removed]"
     },
     "metadata": {
      "needs_background": "light"
     },
     "output_type": "display_data"
    }
   ],
   "source": [
    "draw_pallet(W, H, items, exRes[3])"
   ],
   "metadata": {
    "collapsed": false,
    "pycharm": {
     "name": "#%%\n"
    }
   }
  },
  {
   "cell_type": "code",
   "execution_count": 16,
   "outputs": [
    {
     "name": "stderr",
     "output_type": "stream",
     "text": [
      "D:\\yadisk\\projects\\pallet-packing\\plots.py:23: UserWarning: Matplotlib is currently using module://ipykernel.pylab.backend_inline, which is a non-GUI backend, so cannot show the figure.\n",
      "  fig.show()\n"
     ]
    },
    {
     "data": {
      "text/plain": "<Figure size 432x288 with 1 Axes>",
      "image/png": "[encoded data removed]"
     },
     "metadata": {
      "needs_background": "light"
     },
     "output_type": "display_data"
    }
   ],
   "source": [
    "draw_pallet(W, H, items, skRes[1])"
   ],
   "metadata": {
    "collapsed": false,
    "pycharm": {
     "name": "#%%\n"
    }
   }
  },
  {
   "cell_type": "code",
   "execution_count": 18,
   "outputs": [
    {
     "name": "stderr",
     "output_type": "stream",
     "text": [
      "D:\\yadisk\\projects\\pallet-packing\\plots.py:23: UserWarning: Matplotlib is currently using module://ipykernel.pylab.backend_inline, which is a non-GUI backend, so cannot show the figure.\n",
      "  fig.show()\n"
     ]
    },
    {
     "data": {
      "text/plain": "<Figure size 432x288 with 1 Axes>",
      "image/png": "[encoded data removed]"
     },
     "metadata": {
      "needs_background": "light"
     },
     "output_type": "display_data"
    }
   ],
   "source": [
    "draw_pallet(W, H, items, skRes2[1])"
   ],
   "metadata": {
    "collapsed": false,
    "pycharm": {
     "name": "#%%\n"
    }
   }
  },
  {
   "cell_type": "code",
   "execution_count": 9,
   "outputs": [
    {
     "name": "stdout",
     "output_type": "stream",
     "text": [
      "Solver:\n"
     ]
    },
    {
     "ename": "KeyboardInterrupt",
     "evalue": "",
     "output_type": "error",
     "traceback": [
      "\u001B[1;31m---------------------------------------------------------------------------\u001B[0m",
      "\u001B[1;31mKeyboardInterrupt\u001B[0m                         Traceback (most recent call last)",
      "\u001B[1;32m<ipython-input-9-c38f5f08a5b6>\u001B[0m in \u001B[0;36m<module>\u001B[1;34m\u001B[0m\n\u001B[0;32m      1\u001B[0m \u001B[0mprint\u001B[0m\u001B[1;33m(\u001B[0m\u001B[1;34m'Solver:'\u001B[0m\u001B[1;33m)\u001B[0m\u001B[1;33m\u001B[0m\u001B[1;33m\u001B[0m\u001B[0m\n\u001B[1;32m----> 2\u001B[1;33m \u001B[0mprint_efficiency\u001B[0m\u001B[1;33m(\u001B[0m\u001B[1;36m10\u001B[0m\u001B[1;33m,\u001B[0m\u001B[1;36m10\u001B[0m\u001B[1;33m,\u001B[0m\u001B[0mitems\u001B[0m\u001B[1;33m,\u001B[0m\u001B[0mtask_one_model_adapter\u001B[0m\u001B[1;33m)\u001B[0m\u001B[1;33m\u001B[0m\u001B[1;33m\u001B[0m\u001B[0m\n\u001B[0m\u001B[0;32m      3\u001B[0m \u001B[0mprint\u001B[0m\u001B[1;33m(\u001B[0m\u001B[1;34m'Skyline:'\u001B[0m\u001B[1;33m)\u001B[0m\u001B[1;33m\u001B[0m\u001B[1;33m\u001B[0m\u001B[0m\n\u001B[0;32m      4\u001B[0m \u001B[0mskyline_decode_adapter\u001B[0m\u001B[1;33m=\u001B[0m\u001B[1;32mlambda\u001B[0m \u001B[0mw\u001B[0m\u001B[1;33m,\u001B[0m\u001B[0mh\u001B[0m\u001B[1;33m,\u001B[0m\u001B[0mits\u001B[0m\u001B[1;33m:\u001B[0m\u001B[0mskyline_decode\u001B[0m\u001B[1;33m(\u001B[0m\u001B[0mw\u001B[0m\u001B[1;33m,\u001B[0m\u001B[0mh\u001B[0m\u001B[1;33m,\u001B[0m\u001B[0mits\u001B[0m\u001B[1;33m,\u001B[0m\u001B[0mrange\u001B[0m\u001B[1;33m(\u001B[0m\u001B[0mlen\u001B[0m\u001B[1;33m(\u001B[0m\u001B[0mits\u001B[0m\u001B[1;33m)\u001B[0m\u001B[1;33m)\u001B[0m\u001B[1;33m)\u001B[0m\u001B[1;33m\u001B[0m\u001B[1;33m\u001B[0m\u001B[0m\n\u001B[0;32m      5\u001B[0m \u001B[0mprint_efficiency\u001B[0m\u001B[1;33m(\u001B[0m\u001B[1;36m10\u001B[0m\u001B[1;33m,\u001B[0m\u001B[1;36m10\u001B[0m\u001B[1;33m,\u001B[0m\u001B[0mitems\u001B[0m\u001B[1;33m,\u001B[0m\u001B[0mskyline_decode_adapter\u001B[0m\u001B[1;33m)\u001B[0m\u001B[1;33m\u001B[0m\u001B[1;33m\u001B[0m\u001B[0m\n",
      "\u001B[1;32mD:\\yadisk\\projects\\pallet-packing\\metrics.py\u001B[0m in \u001B[0;36mprint_efficiency\u001B[1;34m(pallet_width, pallet_height, items, algorithm)\u001B[0m\n\u001B[0;32m      8\u001B[0m                      algorithm: Callable[[int, int, List[Item]], Tuple[int, Any]]) -> None:\n\u001B[0;32m      9\u001B[0m     \u001B[0mstart_time\u001B[0m \u001B[1;33m=\u001B[0m \u001B[0mtime\u001B[0m\u001B[1;33m.\u001B[0m\u001B[0mtime\u001B[0m\u001B[1;33m(\u001B[0m\u001B[1;33m)\u001B[0m\u001B[1;33m\u001B[0m\u001B[1;33m\u001B[0m\u001B[0m\n\u001B[1;32m---> 10\u001B[1;33m     \u001B[0mresult\u001B[0m \u001B[1;33m=\u001B[0m \u001B[0malgorithm\u001B[0m\u001B[1;33m(\u001B[0m\u001B[0mpallet_width\u001B[0m\u001B[1;33m,\u001B[0m \u001B[0mpallet_height\u001B[0m\u001B[1;33m,\u001B[0m \u001B[0mitems\u001B[0m\u001B[1;33m)\u001B[0m\u001B[1;33m\u001B[0m\u001B[1;33m\u001B[0m\u001B[0m\n\u001B[0m\u001B[0;32m     11\u001B[0m     \u001B[0mend_time\u001B[0m \u001B[1;33m=\u001B[0m \u001B[0mtime\u001B[0m\u001B[1;33m.\u001B[0m\u001B[0mtime\u001B[0m\u001B[1;33m(\u001B[0m\u001B[1;33m)\u001B[0m\u001B[1;33m\u001B[0m\u001B[1;33m\u001B[0m\u001B[0m\n\u001B[0;32m     12\u001B[0m     print('Execution took:', end_time - start_time, 'seconds\\nResult is:', result[0], '-',\n",
      "\u001B[1;32mD:\\yadisk\\projects\\pallet-packing\\ortools_models.py\u001B[0m in \u001B[0;36mtask_one_model_adapter\u001B[1;34m(pallet_width, pallet_height, items)\u001B[0m\n\u001B[0;32m     27\u001B[0m \u001B[1;32mdef\u001B[0m \u001B[0mtask_one_model_adapter\u001B[0m\u001B[1;33m(\u001B[0m\u001B[0mpallet_width\u001B[0m\u001B[1;33m:\u001B[0m \u001B[0mint\u001B[0m\u001B[1;33m,\u001B[0m \u001B[0mpallet_height\u001B[0m\u001B[1;33m:\u001B[0m \u001B[0mint\u001B[0m\u001B[1;33m,\u001B[0m \u001B[0mitems\u001B[0m\u001B[1;33m:\u001B[0m \u001B[0mList\u001B[0m\u001B[1;33m[\u001B[0m\u001B[0mItem\u001B[0m\u001B[1;33m]\u001B[0m\u001B[1;33m)\u001B[0m\u001B[0;31m \u001B[0m\u001B[0;31m\\\u001B[0m\u001B[1;33m\u001B[0m\u001B[1;33m\u001B[0m\u001B[0m\n\u001B[0;32m     28\u001B[0m         \u001B[1;33m->\u001B[0m \u001B[0mTuple\u001B[0m\u001B[1;33m[\u001B[0m\u001B[0mint\u001B[0m\u001B[1;33m,\u001B[0m \u001B[0mList\u001B[0m\u001B[1;33m[\u001B[0m\u001B[0mUnion\u001B[0m\u001B[1;33m[\u001B[0m\u001B[0mPosition\u001B[0m\u001B[1;33m,\u001B[0m \u001B[1;32mNone\u001B[0m\u001B[1;33m]\u001B[0m\u001B[1;33m]\u001B[0m\u001B[1;33m]\u001B[0m\u001B[1;33m:\u001B[0m\u001B[1;33m\u001B[0m\u001B[1;33m\u001B[0m\u001B[0m\n\u001B[1;32m---> 29\u001B[1;33m     \u001B[0mresult\u001B[0m \u001B[1;33m=\u001B[0m \u001B[0mtask_one_model\u001B[0m\u001B[1;33m(\u001B[0m\u001B[0mpallet_width\u001B[0m\u001B[1;33m,\u001B[0m \u001B[0mpallet_height\u001B[0m\u001B[1;33m,\u001B[0m \u001B[0mitems\u001B[0m\u001B[1;33m)\u001B[0m\u001B[1;33m\u001B[0m\u001B[1;33m\u001B[0m\u001B[0m\n\u001B[0m\u001B[0;32m     30\u001B[0m     \u001B[1;32mreturn\u001B[0m \u001B[0mint\u001B[0m\u001B[1;33m(\u001B[0m\u001B[0mresult\u001B[0m\u001B[1;33m[\u001B[0m\u001B[1;36m1\u001B[0m\u001B[1;33m]\u001B[0m\u001B[1;33m)\u001B[0m\u001B[1;33m,\u001B[0m \u001B[0mresult\u001B[0m\u001B[1;33m[\u001B[0m\u001B[1;36m3\u001B[0m\u001B[1;33m]\u001B[0m\u001B[1;33m\u001B[0m\u001B[1;33m\u001B[0m\u001B[0m\n\u001B[0;32m     31\u001B[0m \u001B[1;33m\u001B[0m\u001B[0m\n",
      "\u001B[1;32mD:\\yadisk\\projects\\pallet-packing\\ortools_models.py\u001B[0m in \u001B[0;36mtask_one_model\u001B[1;34m(pallet_width, pallet_height, items, limit, backend)\u001B[0m\n\u001B[0;32m     13\u001B[0m         \u001B[0msolver\u001B[0m\u001B[1;33m.\u001B[0m\u001B[0mSetTimeLimit\u001B[0m\u001B[1;33m(\u001B[0m\u001B[0mlimit\u001B[0m\u001B[1;33m)\u001B[0m\u001B[1;33m\u001B[0m\u001B[1;33m\u001B[0m\u001B[0m\n\u001B[0;32m     14\u001B[0m \u001B[1;33m\u001B[0m\u001B[0m\n\u001B[1;32m---> 15\u001B[1;33m     \u001B[0mstatus\u001B[0m \u001B[1;33m=\u001B[0m \u001B[0msolver\u001B[0m\u001B[1;33m.\u001B[0m\u001B[0mSolve\u001B[0m\u001B[1;33m(\u001B[0m\u001B[1;33m)\u001B[0m\u001B[1;33m\u001B[0m\u001B[1;33m\u001B[0m\u001B[0m\n\u001B[0m\u001B[0;32m     16\u001B[0m \u001B[1;33m\u001B[0m\u001B[0m\n\u001B[0;32m     17\u001B[0m     \u001B[0mn\u001B[0m \u001B[1;33m=\u001B[0m \u001B[0mlen\u001B[0m\u001B[1;33m(\u001B[0m\u001B[0mitems\u001B[0m\u001B[1;33m)\u001B[0m\u001B[1;33m\u001B[0m\u001B[1;33m\u001B[0m\u001B[0m\n",
      "\u001B[1;31mKeyboardInterrupt\u001B[0m: "
     ]
    }
   ],
   "source": [
    "print('Solver:')\n",
    "print_efficiency(10, 10, items, task_one_model_adapter)\n",
    "print('Skyline:')\n",
    "skyline_decode_adapter = lambda w, h, its: skyline_decode(w, h, its, range(len(its)))\n",
    "print_efficiency(10, 10, items, skyline_decode_adapter)"
   ],
   "metadata": {
    "collapsed": false,
    "pycharm": {
     "name": "#%%\n"
    }
   }
  }
 ],
 "metadata": {
  "kernelspec": {
   "name": "python3",
   "language": "python",
   "display_name": "Python 3"
  },
  "language_info": {
   "codemirror_mode": {
    "name": "ipython",
    "version": 2
   },
   "file_extension": ".py",
   "mimetype": "text/x-python",
   "name": "python",
   "nbconvert_exporter": "python",
   "pygments_lexer": "ipython2",
   "version": "2.7.6"
  }
 },
 "nbformat": 4,
 "nbformat_minor": 0
}