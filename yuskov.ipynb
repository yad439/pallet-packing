{
 "cells": [
  {
   "cell_type": "code",
   "execution_count": 1,
   "metadata": {
    "collapsed": true
   },
   "outputs": [],
   "source": [
    "import random"
   ]
  },
  {
   "cell_type": "code",
   "execution_count": 2,
   "outputs": [],
   "source": [
    "# matplotlib notebook\n",
    "# import matplotlib\n",
    "# matplotlib.use('TkAgg')"
   ],
   "metadata": {
    "collapsed": false,
    "pycharm": {
     "name": "#%%\n"
    }
   }
  },
  {
   "cell_type": "code",
   "execution_count": 3,
   "outputs": [],
   "source": [
    "from common import Item\n",
    "from ortools_models import task_one_model\n",
    "from skyline import skyline_decode\n",
    "from plots import draw_pallet"
   ],
   "metadata": {
    "collapsed": false,
    "pycharm": {
     "name": "#%%\n"
    }
   }
  },
  {
   "cell_type": "code",
   "execution_count": 4,
   "outputs": [
    {
     "data": {
      "text/plain": "[Item(1, 5, 1),\n Item(5, 2, 5),\n Item(2, 1, 5),\n Item(5, 2, 4),\n Item(4, 5, 5),\n Item(4, 1, 1),\n Item(4, 4, 4),\n Item(1, 2, 3),\n Item(4, 5, 2),\n Item(1, 2, 2)]"
     },
     "execution_count": 4,
     "metadata": {},
     "output_type": "execute_result"
    }
   ],
   "source": [
    "items = [Item(random.randint(1, 5), random.randint(1, 5), random.randint(1, 5)) for _ in range(10)]\n",
    "items"
   ],
   "metadata": {
    "collapsed": false,
    "pycharm": {
     "name": "#%%\n"
    }
   }
  },
  {
   "cell_type": "code",
   "execution_count": 5,
   "outputs": [
    {
     "data": {
      "text/plain": "(0,\n 9.0,\n 9.0,\n [Position(0.0, 4.0, False),\n  Position(5.0, 0.0, False),\n  Position(0.0, 9.0, False),\n  Position(5.0, 7.999999999999987, False),\n  Position(5.0, 4.0, True),\n  Position(5.0, 2.0, False),\n  Position(1.0, 5.0, False),\n  Position(2.0, 9.0, True),\n  Position(0.0, 0.0, True),\n  Position(2.0000000000000138, 4.0, True)])"
     },
     "execution_count": 5,
     "metadata": {},
     "output_type": "execute_result"
    }
   ],
   "source": [
    "exRes = task_one_model(10, 10, items, limit=30 * 1000)\n",
    "exRes"
   ],
   "metadata": {
    "collapsed": false,
    "pycharm": {
     "name": "#%%\n"
    }
   }
  },
  {
   "cell_type": "code",
   "execution_count": 10,
   "outputs": [
    {
     "name": "stdout",
     "output_type": "stream",
     "text": [
      "(0, 9.0, 9.0, [Position(0.0, 4.0, False), Position(5.0, 0.0, False), Position(0.0, 9.0, False), Position(5.0, 7.999999999999987, False), Position(5.0, 4.0, True), Position(5.0, 2.0, False), Position(1.0, 5.0, False), Position(2.0, 9.0, True), Position(0.0, 0.0, True), Position(2.0000000000000138, 4.0, True)])\n"
     ]
    }
   ],
   "source": [
    "skRes = skyline_decode(10, 10, items, range(len(items)))\n",
    "skRes"
   ],
   "metadata": {
    "collapsed": false,
    "pycharm": {
     "name": "#%%\n"
    }
   }
  },
  {
   "cell_type": "code",
   "execution_count": 7,
   "outputs": [
    {
     "name": "stderr",
     "output_type": "stream",
     "text": [
      "D:\\yadisk\\projects\\pallet-packing\\plots.py:23: UserWarning: Matplotlib is currently using module://ipykernel.pylab.backend_inline, which is a non-GUI backend, so cannot show the figure.\n",
      "  fig.show()\n"
     ]
    },
    {
     "data": {
      "text/plain": "<Figure size 432x288 with 1 Axes>",
      "image/png": "[encoded data removed]"
     },
     "metadata": {
      "needs_background": "light"
     },
     "output_type": "display_data"
    }
   ],
   "source": [
    "draw_pallet(10, 10, items, exRes[3])"
   ],
   "metadata": {
    "collapsed": false,
    "pycharm": {
     "name": "#%%\n"
    }
   }
  },
  {
   "cell_type": "code",
   "execution_count": 8,
   "outputs": [
    {
     "data": {
      "text/plain": "<Figure size 432x288 with 1 Axes>",
      "image/png": "[encoded data removed]"
     },
     "metadata": {
      "needs_background": "light"
     },
     "output_type": "display_data"
    }
   ],
   "source": [
    "draw_pallet(10, 10, items, skRes[1])"
   ],
   "metadata": {
    "collapsed": false,
    "pycharm": {
     "name": "#%%\n"
    }
   }
  }
 ],
 "metadata": {
  "kernelspec": {
   "name": "python3",
   "language": "python",
   "display_name": "Python 3"
  },
  "language_info": {
   "codemirror_mode": {
    "name": "ipython",
    "version": 2
   },
   "file_extension": ".py",
   "mimetype": "text/x-python",
   "name": "python",
   "nbconvert_exporter": "python",
   "pygments_lexer": "ipython2",
   "version": "2.7.6"
  }
 },
 "nbformat": 4,
 "nbformat_minor": 0
}