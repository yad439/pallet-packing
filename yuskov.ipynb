{
 "cells": [
  {
   "cell_type": "code",
   "execution_count": 1,
   "metadata": {
    "collapsed": true
   },
   "outputs": [],
   "source": [
    "import random"
   ]
  },
  {
   "cell_type": "code",
   "execution_count": 2,
   "metadata": {
    "pycharm": {
     "name": "#%%\n"
    }
   },
   "outputs": [],
   "source": [
    "# matplotlib notebook\n",
    "# import matplotlib\n",
    "# matplotlib.use('TkAgg')"
   ]
  },
  {
   "cell_type": "code",
   "execution_count": 1,
   "metadata": {
    "pycharm": {
     "name": "#%%\n"
    }
   },
   "outputs": [],
   "source": [
    "from c_interop import Library\n",
    "from common import Item\n",
    "from ortools_models import task_one_model, task_one_model_adapter\n",
    "from skyline import skyline_decode\n",
    "from plots import draw_pallet\n",
    "from metrics import print_efficiency"
   ]
  },
  {
   "cell_type": "code",
   "execution_count": 2,
   "metadata": {
    "pycharm": {
     "name": "#%%\n"
    }
   },
   "outputs": [],
   "source": [
    "from data_analys.data_generator import guillotine_cutting"
   ]
  },
  {
   "cell_type": "code",
   "execution_count": 4,
   "metadata": {
    "pycharm": {
     "name": "#%%\n"
    },
    "scrolled": true
   },
   "outputs": [
    {
     "data": {
      "text/plain": [
       "[Item(3, 3, 1),\n",
       " Item(5, 3, 2),\n",
       " Item(2, 2, 1),\n",
       " Item(4, 3, 2),\n",
       " Item(2, 2, 4),\n",
       " Item(5, 2, 3),\n",
       " Item(5, 4, 1),\n",
       " Item(5, 1, 1),\n",
       " Item(4, 4, 4),\n",
       " Item(3, 1, 2),\n",
       " Item(1, 1, 5),\n",
       " Item(4, 4, 2)]"
      ]
     },
     "execution_count": 4,
     "metadata": {},
     "output_type": "execute_result"
    }
   ],
   "source": [
    "items = [Item(random.randint(1, 5), random.randint(1, 5), random.randint(1, 5)) for _ in range(12)]\n",
    "items"
   ]
  },
  {
   "cell_type": "code",
   "execution_count": 3,
   "metadata": {
    "pycharm": {
     "name": "#%%\n"
    }
   },
   "outputs": [
    {
     "data": {
      "text/plain": [
       "[Item(86, 7, None),\n",
       " Item(6, 7, None),\n",
       " Item(6, 4, None),\n",
       " Item(6, 18, None),\n",
       " Item(6, 32, None),\n",
       " Item(6, 39, None),\n",
       " Item(5, 16, None),\n",
       " Item(5, 84, None),\n",
       " Item(32, 4, None),\n",
       " Item(20, 4, None),\n",
       " Item(52, 4, None),\n",
       " Item(52, 55, None),\n",
       " Item(3, 63, None),\n",
       " Item(34, 44, None),\n",
       " Item(34, 19, None),\n",
       " Item(3, 27, None),\n",
       " Item(3, 5, None),\n",
       " Item(3, 5, None),\n",
       " Item(45, 30, None),\n",
       " Item(41, 30, None)]"
      ]
     },
     "execution_count": 3,
     "metadata": {},
     "output_type": "execute_result"
    }
   ],
   "source": [
    "H = 100\n",
    "W = 100\n",
    "items = [Item(item[2], item[3]) for item in guillotine_cutting(W, H, 20)]\n",
    "items"
   ]
  },
  {
   "cell_type": "code",
   "execution_count": 12,
   "metadata": {
    "pycharm": {
     "name": "#%%\n"
    }
   },
   "outputs": [
    {
     "data": {
      "text/plain": [
       "(1,\n",
       " 15.0,\n",
       " 0.0,\n",
       " [Position(0.0, 0.0, False),\n",
       "  Position(89.0, 0.0, False),\n",
       "  Position(88.99999999999997, 96.0, False),\n",
       "  Position(89.00000000000024, 7.0, False),\n",
       "  Position(89.00000000000003, 25.000000000009795, False),\n",
       "  Position(89.0, 57.00000000000452, False),\n",
       "  Position(94.99999999999997, 0.0, False),\n",
       "  Position(95.0, 15.999999999999929, False),\n",
       "  Position(20.00000000000111, 92.00000000000024, False),\n",
       "  Position(0.0, 92.00000000000679, False),\n",
       "  Position(0.0, 96.0, False),\n",
       "  Position(0.0, 36.999999999999986, False),\n",
       "  Position(86.0, 36.99999999999987, False),\n",
       "  Position(52.000000000000554, 55.99999999999875, False),\n",
       "  Position(52.00000000000354, 36.9999999999999, False),\n",
       "  Position(85.99999999999983, 9.999999999999885, False),\n",
       "  Position(86.0, 2.0, False),\n",
       "  None,\n",
       "  Position(40.99999999999997, 7.0, False),\n",
       "  Position(0.0, 6.999999999999972, False)])"
      ]
     },
     "execution_count": 12,
     "metadata": {},
     "output_type": "execute_result"
    }
   ],
   "source": [
    "exRes = task_one_model(W, H, items, limit=2 * 60 * 1000, backend='Gurobi')\n",
    "exRes"
   ]
  },
  {
   "cell_type": "code",
   "execution_count": 6,
   "metadata": {
    "pycharm": {
     "name": "#%%\n"
    }
   },
   "outputs": [
    {
     "data": {
      "text/plain": [
       "(4356,\n",
       " [Position(0, 0, False),\n",
       "  Position(86, 0, False),\n",
       "  Position(92, 0, False),\n",
       "  Position(0, 7, False),\n",
       "  Position(6, 7, False),\n",
       "  Position(16, 7, False),\n",
       "  Position(22, 7, False),\n",
       "  Position(27, 7, False),\n",
       "  Position(12, 7, True),\n",
       "  Position(32, 7, False),\n",
       "  Position(32, 11, True),\n",
       "  None,\n",
       "  Position(97, 4, False),\n",
       "  None,\n",
       "  Position(36, 38, True),\n",
       "  Position(36, 11, False),\n",
       "  Position(92, 4, True),\n",
       "  Position(39, 11, False),\n",
       "  Position(52, 7, False),\n",
       "  Position(56, 37, False)])"
      ]
     },
     "execution_count": 6,
     "metadata": {},
     "output_type": "execute_result"
    }
   ],
   "source": [
    "skRes = skyline_decode(W, H, items, range(len(items)))\n",
    "skRes"
   ]
  },
  {
   "cell_type": "code",
   "execution_count": 17,
   "metadata": {
    "pycharm": {
     "name": "#%%\n"
    }
   },
   "outputs": [
    {
     "data": {
      "text/plain": [
       "(316,\n",
       " [Position(86, 0, True),\n",
       "  Position(93, 0, True),\n",
       "  Position(86, 86, False),\n",
       "  None,\n",
       "  Position(36, 60, False),\n",
       "  Position(30, 55, False),\n",
       "  Position(36, 55, True),\n",
       "  Position(93, 6, False),\n",
       "  None,\n",
       "  None,\n",
       "  Position(36, 93, False),\n",
       "  Position(0, 0, False),\n",
       "  Position(0, 97, True),\n",
       "  Position(52, 0, False),\n",
       "  Position(52, 44, False),\n",
       "  Position(83, 63, False),\n",
       "  Position(47, 60, True),\n",
       "  Position(42, 60, True),\n",
       "  Position(0, 55, True),\n",
       "  Position(42, 63, False)])"
      ]
     },
     "execution_count": 17,
     "metadata": {},
     "output_type": "execute_result"
    }
   ],
   "source": [
    "order=list(range(len(items)))\n",
    "order.sort(key=lambda i:items[i].height*items[i].width,reverse=True)\n",
    "skRes2 = skyline_decode(W, H, items, order)\n",
    "skRes2"
   ]
  },
  {
   "cell_type": "code",
   "execution_count": 14,
   "metadata": {
    "pycharm": {
     "name": "#%%\n"
    }
   },
   "outputs": [
    {
     "data": {
      "image/png": "[encoded data removed]",
      "text/plain": [
       "<Figure size 432x288 with 1 Axes>"
      ]
     },
     "metadata": {
      "needs_background": "light"
     },
     "output_type": "display_data"
    }
   ],
   "source": [
    "draw_pallet(W, H, items, exRes[3])"
   ]
  },
  {
   "cell_type": "code",
   "execution_count": 12,
   "metadata": {
    "pycharm": {
     "name": "#%%\n"
    }
   },
   "outputs": [
    {
     "data": {
      "image/png": "[encoded data removed]",
      "text/plain": [
       "<Figure size 432x288 with 1 Axes>"
      ]
     },
     "metadata": {
      "needs_background": "light"
     },
     "output_type": "display_data"
    }
   ],
   "source": [
    "draw_pallet(W, H, items, skRes[1])"
   ]
  },
  {
   "cell_type": "code",
   "execution_count": 18,
   "metadata": {
    "pycharm": {
     "name": "#%%\n"
    }
   },
   "outputs": [
    {
     "name": "stderr",
     "output_type": "stream",
     "text": [
      "D:\\yadisk\\projects\\pallet-packing\\plots.py:23: UserWarning: Matplotlib is currently using module://ipykernel.pylab.backend_inline, which is a non-GUI backend, so cannot show the figure.\n",
      "  fig.show()\n"
     ]
    },
    {
     "data": {
      "image/png": "[encoded data removed]",
      "text/plain": [
       "<Figure size 432x288 with 1 Axes>"
      ]
     },
     "metadata": {
      "needs_background": "light"
     },
     "output_type": "display_data"
    }
   ],
   "source": [
    "draw_pallet(W, H, items, skRes2[1])"
   ]
  },
  {
   "cell_type": "code",
   "execution_count": 9,
   "metadata": {
    "pycharm": {
     "name": "#%%\n"
    }
   },
   "outputs": [
    {
     "name": "stdout",
     "output_type": "stream",
     "text": [
      "Solver:\n"
     ]
    },
    {
     "ename": "KeyboardInterrupt",
     "evalue": "",
     "output_type": "error",
     "traceback": [
      "\u001b[1;31m---------------------------------------------------------------------------\u001b[0m",
      "\u001b[1;31mKeyboardInterrupt\u001b[0m                         Traceback (most recent call last)",
      "\u001b[1;32m<ipython-input-9-c38f5f08a5b6>\u001b[0m in \u001b[0;36m<module>\u001b[1;34m\u001b[0m\n\u001b[0;32m      1\u001b[0m \u001b[0mprint\u001b[0m\u001b[1;33m(\u001b[0m\u001b[1;34m'Solver:'\u001b[0m\u001b[1;33m)\u001b[0m\u001b[1;33m\u001b[0m\u001b[1;33m\u001b[0m\u001b[0m\n\u001b[1;32m----> 2\u001b[1;33m \u001b[0mprint_efficiency\u001b[0m\u001b[1;33m(\u001b[0m\u001b[1;36m10\u001b[0m\u001b[1;33m,\u001b[0m\u001b[1;36m10\u001b[0m\u001b[1;33m,\u001b[0m\u001b[0mitems\u001b[0m\u001b[1;33m,\u001b[0m\u001b[0mtask_one_model_adapter\u001b[0m\u001b[1;33m)\u001b[0m\u001b[1;33m\u001b[0m\u001b[1;33m\u001b[0m\u001b[0m\n\u001b[0m\u001b[0;32m      3\u001b[0m \u001b[0mprint\u001b[0m\u001b[1;33m(\u001b[0m\u001b[1;34m'Skyline:'\u001b[0m\u001b[1;33m)\u001b[0m\u001b[1;33m\u001b[0m\u001b[1;33m\u001b[0m\u001b[0m\n\u001b[0;32m      4\u001b[0m \u001b[0mskyline_decode_adapter\u001b[0m\u001b[1;33m=\u001b[0m\u001b[1;32mlambda\u001b[0m \u001b[0mw\u001b[0m\u001b[1;33m,\u001b[0m\u001b[0mh\u001b[0m\u001b[1;33m,\u001b[0m\u001b[0mits\u001b[0m\u001b[1;33m:\u001b[0m\u001b[0mskyline_decode\u001b[0m\u001b[1;33m(\u001b[0m\u001b[0mw\u001b[0m\u001b[1;33m,\u001b[0m\u001b[0mh\u001b[0m\u001b[1;33m,\u001b[0m\u001b[0mits\u001b[0m\u001b[1;33m,\u001b[0m\u001b[0mrange\u001b[0m\u001b[1;33m(\u001b[0m\u001b[0mlen\u001b[0m\u001b[1;33m(\u001b[0m\u001b[0mits\u001b[0m\u001b[1;33m)\u001b[0m\u001b[1;33m)\u001b[0m\u001b[1;33m)\u001b[0m\u001b[1;33m\u001b[0m\u001b[1;33m\u001b[0m\u001b[0m\n\u001b[0;32m      5\u001b[0m \u001b[0mprint_efficiency\u001b[0m\u001b[1;33m(\u001b[0m\u001b[1;36m10\u001b[0m\u001b[1;33m,\u001b[0m\u001b[1;36m10\u001b[0m\u001b[1;33m,\u001b[0m\u001b[0mitems\u001b[0m\u001b[1;33m,\u001b[0m\u001b[0mskyline_decode_adapter\u001b[0m\u001b[1;33m)\u001b[0m\u001b[1;33m\u001b[0m\u001b[1;33m\u001b[0m\u001b[0m\n",
      "\u001b[1;32mD:\\yadisk\\projects\\pallet-packing\\metrics.py\u001b[0m in \u001b[0;36mprint_efficiency\u001b[1;34m(pallet_width, pallet_height, items, algorithm)\u001b[0m\n\u001b[0;32m      8\u001b[0m                      algorithm: Callable[[int, int, List[Item]], Tuple[int, Any]]) -> None:\n\u001b[0;32m      9\u001b[0m     \u001b[0mstart_time\u001b[0m \u001b[1;33m=\u001b[0m \u001b[0mtime\u001b[0m\u001b[1;33m.\u001b[0m\u001b[0mtime\u001b[0m\u001b[1;33m(\u001b[0m\u001b[1;33m)\u001b[0m\u001b[1;33m\u001b[0m\u001b[1;33m\u001b[0m\u001b[0m\n\u001b[1;32m---> 10\u001b[1;33m     \u001b[0mresult\u001b[0m \u001b[1;33m=\u001b[0m \u001b[0malgorithm\u001b[0m\u001b[1;33m(\u001b[0m\u001b[0mpallet_width\u001b[0m\u001b[1;33m,\u001b[0m \u001b[0mpallet_height\u001b[0m\u001b[1;33m,\u001b[0m \u001b[0mitems\u001b[0m\u001b[1;33m)\u001b[0m\u001b[1;33m\u001b[0m\u001b[1;33m\u001b[0m\u001b[0m\n\u001b[0m\u001b[0;32m     11\u001b[0m     \u001b[0mend_time\u001b[0m \u001b[1;33m=\u001b[0m \u001b[0mtime\u001b[0m\u001b[1;33m.\u001b[0m\u001b[0mtime\u001b[0m\u001b[1;33m(\u001b[0m\u001b[1;33m)\u001b[0m\u001b[1;33m\u001b[0m\u001b[1;33m\u001b[0m\u001b[0m\n\u001b[0;32m     12\u001b[0m     print('Execution took:', end_time - start_time, 'seconds\\nResult is:', result[0], '-',\n",
      "\u001b[1;32mD:\\yadisk\\projects\\pallet-packing\\ortools_models.py\u001b[0m in \u001b[0;36mtask_one_model_adapter\u001b[1;34m(pallet_width, pallet_height, items)\u001b[0m\n\u001b[0;32m     27\u001b[0m \u001b[1;32mdef\u001b[0m \u001b[0mtask_one_model_adapter\u001b[0m\u001b[1;33m(\u001b[0m\u001b[0mpallet_width\u001b[0m\u001b[1;33m:\u001b[0m \u001b[0mint\u001b[0m\u001b[1;33m,\u001b[0m \u001b[0mpallet_height\u001b[0m\u001b[1;33m:\u001b[0m \u001b[0mint\u001b[0m\u001b[1;33m,\u001b[0m \u001b[0mitems\u001b[0m\u001b[1;33m:\u001b[0m \u001b[0mList\u001b[0m\u001b[1;33m[\u001b[0m\u001b[0mItem\u001b[0m\u001b[1;33m]\u001b[0m\u001b[1;33m)\u001b[0m\u001b[0;31m \u001b[0m\u001b[0;31m\\\u001b[0m\u001b[1;33m\u001b[0m\u001b[1;33m\u001b[0m\u001b[0m\n\u001b[0;32m     28\u001b[0m         \u001b[1;33m->\u001b[0m \u001b[0mTuple\u001b[0m\u001b[1;33m[\u001b[0m\u001b[0mint\u001b[0m\u001b[1;33m,\u001b[0m \u001b[0mList\u001b[0m\u001b[1;33m[\u001b[0m\u001b[0mUnion\u001b[0m\u001b[1;33m[\u001b[0m\u001b[0mPosition\u001b[0m\u001b[1;33m,\u001b[0m \u001b[1;32mNone\u001b[0m\u001b[1;33m]\u001b[0m\u001b[1;33m]\u001b[0m\u001b[1;33m]\u001b[0m\u001b[1;33m:\u001b[0m\u001b[1;33m\u001b[0m\u001b[1;33m\u001b[0m\u001b[0m\n\u001b[1;32m---> 29\u001b[1;33m     \u001b[0mresult\u001b[0m \u001b[1;33m=\u001b[0m \u001b[0mtask_one_model\u001b[0m\u001b[1;33m(\u001b[0m\u001b[0mpallet_width\u001b[0m\u001b[1;33m,\u001b[0m \u001b[0mpallet_height\u001b[0m\u001b[1;33m,\u001b[0m \u001b[0mitems\u001b[0m\u001b[1;33m)\u001b[0m\u001b[1;33m\u001b[0m\u001b[1;33m\u001b[0m\u001b[0m\n\u001b[0m\u001b[0;32m     30\u001b[0m     \u001b[1;32mreturn\u001b[0m \u001b[0mint\u001b[0m\u001b[1;33m(\u001b[0m\u001b[0mresult\u001b[0m\u001b[1;33m[\u001b[0m\u001b[1;36m1\u001b[0m\u001b[1;33m]\u001b[0m\u001b[1;33m)\u001b[0m\u001b[1;33m,\u001b[0m \u001b[0mresult\u001b[0m\u001b[1;33m[\u001b[0m\u001b[1;36m3\u001b[0m\u001b[1;33m]\u001b[0m\u001b[1;33m\u001b[0m\u001b[1;33m\u001b[0m\u001b[0m\n\u001b[0;32m     31\u001b[0m \u001b[1;33m\u001b[0m\u001b[0m\n",
      "\u001b[1;32mD:\\yadisk\\projects\\pallet-packing\\ortools_models.py\u001b[0m in \u001b[0;36mtask_one_model\u001b[1;34m(pallet_width, pallet_height, items, limit, backend)\u001b[0m\n\u001b[0;32m     13\u001b[0m         \u001b[0msolver\u001b[0m\u001b[1;33m.\u001b[0m\u001b[0mSetTimeLimit\u001b[0m\u001b[1;33m(\u001b[0m\u001b[0mlimit\u001b[0m\u001b[1;33m)\u001b[0m\u001b[1;33m\u001b[0m\u001b[1;33m\u001b[0m\u001b[0m\n\u001b[0;32m     14\u001b[0m \u001b[1;33m\u001b[0m\u001b[0m\n\u001b[1;32m---> 15\u001b[1;33m     \u001b[0mstatus\u001b[0m \u001b[1;33m=\u001b[0m \u001b[0msolver\u001b[0m\u001b[1;33m.\u001b[0m\u001b[0mSolve\u001b[0m\u001b[1;33m(\u001b[0m\u001b[1;33m)\u001b[0m\u001b[1;33m\u001b[0m\u001b[1;33m\u001b[0m\u001b[0m\n\u001b[0m\u001b[0;32m     16\u001b[0m \u001b[1;33m\u001b[0m\u001b[0m\n\u001b[0;32m     17\u001b[0m     \u001b[0mn\u001b[0m \u001b[1;33m=\u001b[0m \u001b[0mlen\u001b[0m\u001b[1;33m(\u001b[0m\u001b[0mitems\u001b[0m\u001b[1;33m)\u001b[0m\u001b[1;33m\u001b[0m\u001b[1;33m\u001b[0m\u001b[0m\n",
      "\u001b[1;31mKeyboardInterrupt\u001b[0m: "
     ]
    }
   ],
   "source": [
    "print('Solver:')\n",
    "print_efficiency(10, 10, items, task_one_model_adapter)\n",
    "print('Skyline:')\n",
    "skyline_decode_adapter = lambda w, h, its: skyline_decode(w, h, its, range(len(its)))\n",
    "print_efficiency(10, 10, items, skyline_decode_adapter)"
   ]
  },
  {
   "cell_type": "code",
   "execution_count": 4,
   "metadata": {
    "pycharm": {
     "name": "#%%\n"
    }
   },
   "outputs": [],
   "source": [
    "lib = Library('lib/libcpp.dll')\n",
    "c_skyline=lib.get_function('simple_skyline')\n",
    "annealing=lib.get_function('simulated_annealing_skyline')"
   ]
  },
  {
   "cell_type": "code",
   "execution_count": 10,
   "metadata": {
    "pycharm": {
     "name": "#%%\n"
    }
   },
   "outputs": [
    {
     "data": {
      "text/plain": [
       "(1075,\n",
       " [Position(0.0, 0.0, False),\n",
       "  Position(0.0, 7.0, False),\n",
       "  Position(6.0, 7.0, False),\n",
       "  Position(0.0, 14.0, False),\n",
       "  Position(6.0, 14.0, False),\n",
       "  Position(12.0, 39.0, False),\n",
       "  Position(18.0, 39.0, False),\n",
       "  Position(12.0, 34.0, True),\n",
       "  Position(23.0, 39.0, False),\n",
       "  Position(23.0, 43.0, False),\n",
       "  Position(6.0, 46.0, True),\n",
       "  Position(23.0, 47.0, True),\n",
       "  Position(6.0, 11.0, True),\n",
       "  None,\n",
       "  Position(81.0, 53.0, True),\n",
       "  Position(78.0, 47.0, False),\n",
       "  Position(81.0, 47.0, False),\n",
       "  Position(93.0, 48.0, False),\n",
       "  None,\n",
       "  None])"
      ]
     },
     "execution_count": 10,
     "metadata": {},
     "output_type": "execute_result"
    }
   ],
   "source": [
    "skRes3=c_skyline(W, H, items)\n",
    "skRes3"
   ]
  },
  {
   "cell_type": "code",
   "execution_count": 11,
   "metadata": {
    "pycharm": {
     "name": "#%%\n"
    }
   },
   "outputs": [
    {
     "name": "stderr",
     "output_type": "stream",
     "text": [
      "D:\\yadisk\\projects\\pallet-packing\\plots.py:23: UserWarning: Matplotlib is currently using module://ipykernel.pylab.backend_inline, which is a non-GUI backend, so cannot show the figure.\n",
      "  fig.show()\n"
     ]
    },
    {
     "data": {
      "image/png": "[encoded data removed]",
      "text/plain": [
       "<Figure size 432x288 with 1 Axes>"
      ]
     },
     "metadata": {
      "needs_background": "light"
     },
     "output_type": "display_data"
    }
   ],
   "source": [
    "draw_pallet(W, H, items, skRes3[1])"
   ]
  },
  {
   "cell_type": "code",
   "execution_count": 5,
   "metadata": {
    "scrolled": true
   },
   "outputs": [
    {
     "data": {
      "text/plain": [
       "(0,\n",
       " [Position(14.0, 63.0, False),\n",
       "  Position(8.0, 4.0, False),\n",
       "  Position(60.0, 0.0, False),\n",
       "  Position(8.0, 11.0, False),\n",
       "  Position(8.0, 29.0, False),\n",
       "  Position(8.0, 61.0, False),\n",
       "  Position(3.0, 84.0, False),\n",
       "  Position(3.0, 0.0, False),\n",
       "  Position(28.0, 0.0, False),\n",
       "  Position(8.0, 0.0, False),\n",
       "  Position(14.0, 59.0, False),\n",
       "  Position(14.0, 4.0, False),\n",
       "  Position(0.0, 0.0, False),\n",
       "  Position(66.0, 19.0, False),\n",
       "  Position(66.0, 0.0, False),\n",
       "  Position(0.0, 73.0, False),\n",
       "  Position(0.0, 68.0, False),\n",
       "  Position(0.0, 63.0, False),\n",
       "  Position(14.0, 70.0, False),\n",
       "  Position(59.0, 70.0, False)])"
      ]
     },
     "execution_count": 5,
     "metadata": {},
     "output_type": "execute_result"
    }
   ],
   "source": [
    "annRes=annealing(W,H,items)\n",
    "annRes"
   ]
  },
  {
   "cell_type": "code",
   "execution_count": 6,
   "metadata": {
    "pycharm": {
     "name": "#%%\n"
    }
   },
   "outputs": [
    {
     "name": "stderr",
     "output_type": "stream",
     "text": [
      "D:\\yadisk\\projects\\pallet-packing\\plots.py:23: UserWarning: Matplotlib is currently using module://ipykernel.pylab.backend_inline, which is a non-GUI backend, so cannot show the figure.\n",
      "  fig.show()\n"
     ]
    },
    {
     "data": {
      "image/png": "[encoded data removed]",
      "text/plain": [
       "<Figure size 432x288 with 1 Axes>"
      ]
     },
     "metadata": {
      "needs_background": "light"
     },
     "output_type": "display_data"
    }
   ],
   "source": [
    "draw_pallet(W, H, items, annRes[1])"
   ]
  }
 ],
 "metadata": {
  "kernelspec": {
   "display_name": "Python 3",
   "language": "python",
   "name": "python3"
  },
  "language_info": {
   "codemirror_mode": {
    "name": "ipython",
    "version": 3
   },
   "file_extension": ".py",
   "mimetype": "text/x-python",
   "name": "python",
   "nbconvert_exporter": "python",
   "pygments_lexer": "ipython3",
   "version": "3.9.6"
  }
 },
 "nbformat": 4,
 "nbformat_minor": 1
}
