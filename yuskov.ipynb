{
 "cells": [
  {
   "cell_type": "code",
   "execution_count": 1,
   "metadata": {
    "collapsed": true
   },
   "outputs": [],
   "source": [
    "import random"
   ]
  },
  {
   "cell_type": "code",
   "execution_count": 2,
   "outputs": [],
   "source": [
    "# matplotlib notebook\n",
    "# import matplotlib\n",
    "# matplotlib.use('TkAgg')"
   ],
   "metadata": {
    "collapsed": false,
    "pycharm": {
     "name": "#%%\n"
    }
   }
  },
  {
   "cell_type": "code",
   "execution_count": 3,
   "outputs": [],
   "source": [
    "from common import Item\n",
    "from ortools_models import task_one_model, task_one_model_adapter\n",
    "from skyline import skyline_decode\n",
    "from plots import draw_pallet\n",
    "from metrics import print_efficiency"
   ],
   "metadata": {
    "collapsed": false,
    "pycharm": {
     "name": "#%%\n"
    }
   }
  },
  {
   "cell_type": "code",
   "execution_count": 4,
   "outputs": [
    {
     "data": {
      "text/plain": "[Item(4, 1, 5),\n Item(2, 2, 4),\n Item(1, 1, 1),\n Item(2, 5, 3),\n Item(4, 4, 1),\n Item(5, 1, 4),\n Item(5, 3, 2),\n Item(2, 3, 5),\n Item(4, 1, 5),\n Item(3, 3, 1)]"
     },
     "execution_count": 4,
     "metadata": {},
     "output_type": "execute_result"
    }
   ],
   "source": [
    "items = [Item(random.randint(1, 5), random.randint(1, 5), random.randint(1, 5)) for _ in range(10)]\n",
    "items"
   ],
   "metadata": {
    "collapsed": false,
    "pycharm": {
     "name": "#%%\n"
    }
   }
  },
  {
   "cell_type": "code",
   "execution_count": 5,
   "outputs": [
    {
     "data": {
      "text/plain": "(0,\n 26.0,\n 26.0,\n [Position(9.0, 0.0, True),\n  Position(8.0, 5.0, False),\n  Position(6.0, 0.0, False),\n  Position(0.0, 0.0, True),\n  Position(5.0, 1.0, False),\n  Position(0.0, 2.0, False),\n  Position(0.0, 4.0, False),\n  Position(0.0, 7.0, False),\n  Position(2.0, 9.0, False),\n  Position(7.0, 7.0, False)])"
     },
     "execution_count": 5,
     "metadata": {},
     "output_type": "execute_result"
    }
   ],
   "source": [
    "exRes = task_one_model(10, 10, items, limit=30 * 1000)\n",
    "exRes"
   ],
   "metadata": {
    "collapsed": false,
    "pycharm": {
     "name": "#%%\n"
    }
   }
  },
  {
   "cell_type": "code",
   "execution_count": 6,
   "outputs": [
    {
     "data": {
      "text/plain": "(26,\n [Position(0, 0, False),\n  Position(0, 1, False),\n  Position(4, 0, False),\n  Position(2, 1, False),\n  Position(4, 1, False),\n  Position(5, 0, False),\n  Position(0, 6, False),\n  Position(8, 1, False),\n  Position(4, 5, False),\n  Position(5, 6, False)])"
     },
     "execution_count": 6,
     "metadata": {},
     "output_type": "execute_result"
    }
   ],
   "source": [
    "skRes = skyline_decode(10, 10, items, range(len(items)))\n",
    "skRes"
   ],
   "metadata": {
    "collapsed": false,
    "pycharm": {
     "name": "#%%\n"
    }
   }
  },
  {
   "cell_type": "code",
   "execution_count": 7,
   "outputs": [
    {
     "name": "stderr",
     "output_type": "stream",
     "text": [
      "D:\\yadisk\\projects\\pallet-packing\\plots.py:23: UserWarning: Matplotlib is currently using module://ipykernel.pylab.backend_inline, which is a non-GUI backend, so cannot show the figure.\n",
      "  fig.show()\n"
     ]
    },
    {
     "data": {
      "text/plain": "<Figure size 432x288 with 1 Axes>",
      "image/png": "[encoded data removed]"
     },
     "metadata": {
      "needs_background": "light"
     },
     "output_type": "display_data"
    }
   ],
   "source": [
    "draw_pallet(10, 10, items, exRes[3])"
   ],
   "metadata": {
    "collapsed": false,
    "pycharm": {
     "name": "#%%\n"
    }
   }
  },
  {
   "cell_type": "code",
   "execution_count": 8,
   "outputs": [
    {
     "data": {
      "text/plain": "<Figure size 432x288 with 1 Axes>",
      "image/png": "[encoded data removed]"
     },
     "metadata": {
      "needs_background": "light"
     },
     "output_type": "display_data"
    }
   ],
   "source": [
    "draw_pallet(10, 10, items, skRes[1])"
   ],
   "metadata": {
    "collapsed": false,
    "pycharm": {
     "name": "#%%\n"
    }
   }
  },
  {
   "cell_type": "code",
   "execution_count": 9,
   "outputs": [
    {
     "name": "stdout",
     "output_type": "stream",
     "text": [
      "Solver:\n",
      "Execution took: 2.6781532764434814 seconds\n",
      "Result is: 26 - 26.00% of pallet used\n",
      "Skyline:\n",
      "Execution took: 0.0 seconds\n",
      "Result is: 26 - 26.00% of pallet used\n"
     ]
    }
   ],
   "source": [
    "print('Solver:')\n",
    "print_efficiency(10,10,items,task_one_model_adapter)\n",
    "print('Skyline:')\n",
    "skyline_decode_adapter=lambda w,h,its:skyline_decode(w,h,its,range(len(its)))\n",
    "print_efficiency(10,10,items,skyline_decode_adapter)"
   ],
   "metadata": {
    "collapsed": false,
    "pycharm": {
     "name": "#%%\n"
    }
   }
  }
 ],
 "metadata": {
  "kernelspec": {
   "name": "python3",
   "language": "python",
   "display_name": "Python 3"
  },
  "language_info": {
   "codemirror_mode": {
    "name": "ipython",
    "version": 2
   },
   "file_extension": ".py",
   "mimetype": "text/x-python",
   "name": "python",
   "nbconvert_exporter": "python",
   "pygments_lexer": "ipython2",
   "version": "2.7.6"
  }
 },
 "nbformat": 4,
 "nbformat_minor": 0
}