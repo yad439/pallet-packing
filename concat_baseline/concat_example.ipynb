{
 "cells": [
  {
   "cell_type": "code",
   "execution_count": 1,
   "id": "45c99273-f8d4-48cd-8a32-64253fb687b2",
   "metadata": {},
   "outputs": [],
   "source": [
    "import matplotlib.pyplot as plt\n",
    "\n",
    "import repackage\n",
    "repackage.up()\n",
    "\n",
    "from data_analys.data_generator import guillotine_cutting, guillotine_cutting_max\n",
    "from data_analys.draw_utils import draw_cutting, draw_items_cnt, draw_side_bar\n",
    "from concat_baseline import Rectangle, pallet_placement, assign_coordinates, rects_flatten"
   ]
  },
  {
   "cell_type": "code",
   "execution_count": 2,
   "id": "598181f6-4649-4316-9da2-af6ccf47880a",
   "metadata": {},
   "outputs": [
    {
     "data": {
      "image/png": "[encoded data removed]",
      "text/plain": [
       "<Figure size 432x288 with 1 Axes>"
      ]
     },
     "metadata": {
      "needs_background": "light"
     },
     "output_type": "display_data"
    }
   ],
   "source": [
    "H, W = 100, 100\n",
    "n_rect = 10\n",
    "min_side = 5\n",
    "seed = 0\n",
    "\n",
    "items_xywh = guillotine_cutting_max(W, H, n_rect, min_side, seed)\n",
    "\n",
    "fig, ax = plt.subplots()\n",
    "draw_cutting(H, W, items_xywh, ax=ax)"
   ]
  },
  {
   "cell_type": "code",
   "execution_count": 3,
   "id": "8ec053d2-ca91-4f92-b839-71dc71144186",
   "metadata": {},
   "outputs": [],
   "source": [
    "items_wh = [\n",
    "    (w, h) if w > h else (h, w)\n",
    "    for x,y,w,h in items_xywh\n",
    "]"
   ]
  },
  {
   "cell_type": "code",
   "execution_count": 4,
   "id": "31e0f3dc-75ac-4a1c-aa43-13f6aa54bd9a",
   "metadata": {},
   "outputs": [],
   "source": [
    "rects = [Rectangle(w, h)\n",
    "         for w, h in items_wh\n",
    "        ]"
   ]
  },
  {
   "cell_type": "code",
   "execution_count": 5,
   "id": "1a414b74-dc73-482e-bfbc-b02a04e457fa",
   "metadata": {},
   "outputs": [],
   "source": [
    "pallet = Rectangle(W, H,[],(W, H))\n",
    "rest_rects = pallet_placement(pallet, rects)\n",
    "\n",
    "assert len(rest_rects) + len(rects_flatten(pallet.placed)) == len(rects)"
   ]
  },
  {
   "cell_type": "code",
   "execution_count": 6,
   "id": "c0cd59e7-b5b6-4ff8-8c58-721cee067f78",
   "metadata": {},
   "outputs": [],
   "source": [
    "#pallet.placed"
   ]
  },
  {
   "cell_type": "code",
   "execution_count": 7,
   "id": "ed643b08-e6e2-4ba6-84a3-104a10ec3057",
   "metadata": {},
   "outputs": [],
   "source": [
    "# print('free_wh:')\n",
    "# pallet.free_print()"
   ]
  },
  {
   "cell_type": "code",
   "execution_count": 8,
   "id": "6e084868-2b63-4737-92f1-93ef7082fe88",
   "metadata": {},
   "outputs": [],
   "source": [
    "solve_xywh = assign_coordinates(0, 0, pallet.w, pallet.h, pallet.placed)"
   ]
  },
  {
   "cell_type": "code",
   "execution_count": 9,
   "id": "6630395c-bd10-45f2-9b80-01c099e19f8b",
   "metadata": {},
   "outputs": [
    {
     "data": {
      "image/png": "[encoded data removed]",
      "text/plain": [
       "<Figure size 432x288 with 1 Axes>"
      ]
     },
     "metadata": {
      "needs_background": "light"
     },
     "output_type": "display_data"
    }
   ],
   "source": [
    "fig, ax = plt.subplots()\n",
    "draw_cutting(pallet.w, pallet.h, solve_xywh, ax=ax)"
   ]
  },
  {
   "cell_type": "code",
   "execution_count": 10,
   "id": "9b2f30ea-2348-4a14-bb57-658043365653",
   "metadata": {},
   "outputs": [
    {
     "data": {
      "text/plain": [
       "Rectangle(w=100, h=100, childs=1, free_wh=(0, 0), fullness=100.0%)"
      ]
     },
     "execution_count": 10,
     "metadata": {},
     "output_type": "execute_result"
    }
   ],
   "source": [
    "pallet"
   ]
  },
  {
   "cell_type": "code",
   "execution_count": null,
   "id": "3cf6c42f-2eaa-4234-9328-607c525db46f",
   "metadata": {},
   "outputs": [],
   "source": []
  }
 ],
 "metadata": {
  "kernelspec": {
   "display_name": "Python 3",
   "language": "python",
   "name": "python3"
  },
  "language_info": {
   "codemirror_mode": {
    "name": "ipython",
    "version": 3
   },
   "file_extension": ".py",
   "mimetype": "text/x-python",
   "name": "python",
   "nbconvert_exporter": "python",
   "pygments_lexer": "ipython3",
   "version": "3.8.10"
  }
 },
 "nbformat": 4,
 "nbformat_minor": 5
}
