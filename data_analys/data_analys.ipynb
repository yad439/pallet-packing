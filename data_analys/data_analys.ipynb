{
 "cells": [
  {
   "cell_type": "code",
   "execution_count": 4,
   "id": "2fbf81f8-9eb7-4aec-94ee-3705635ef59f",
   "metadata": {},
   "outputs": [],
   "source": [
    "import gradio as gr\n",
    "import matplotlib.pyplot as plt\n",
    "\n",
    "from c_interop import Library\n",
    "from common import Item\n",
    "from skyline import skyline_decode\n",
    "from ortools_models import task_one_model_adapter\n",
    "from data_generator import guillotine_cutting, guillotine_cutting_max\n",
    "from draw_utils import draw_cutting, draw_items_cnt, draw_side_bar"
   ]
  },
  {
   "cell_type": "code",
   "execution_count": 2,
   "id": "ef461d0b-8141-4300-abeb-6ec95c866534",
   "metadata": {},
   "outputs": [
    {
     "data": {
      "image/png": "[encoded data removed]",
      "text/plain": [
       "<Figure size 720x360 with 2 Axes>"
      ]
     },
     "metadata": {
      "needs_background": "light"
     },
     "output_type": "display_data"
    }
   ],
   "source": [
    "H, W = 100, 100\n",
    "n_rect = 50\n",
    "min_side = 5\n",
    "seed = 5\n",
    "\n",
    "items_xywh = [guillotine_cutting(W, H, n_rect, min_side, '', seed),\n",
    "              guillotine_cutting_max(W, H, n_rect, min_side, seed)]\n",
    "\n",
    "fig, ax = plt.subplots(1, 2, figsize=(10, 5))\n",
    "for i, items in enumerate(items_xywh):\n",
    "    draw_cutting(H, W, items, ax=ax[i])"
   ]
  },
  {
   "cell_type": "code",
   "execution_count": 5,
   "id": "77ffba8e-ce34-4677-b6c7-99c6c4c6356f",
   "metadata": {},
   "outputs": [],
   "source": [
    "def to_wh(items_xywh):\n",
    "    return [\n",
    "            (w, h) if w > h else (h, w)\n",
    "            for x, y, w, h in items_xywh\n",
    "            ]"
   ]
  },
  {
   "cell_type": "code",
   "execution_count": 4,
   "id": "421490bb-c418-4016-ab5f-ec26e3ae0cc0",
   "metadata": {},
   "outputs": [],
   "source": [
    "items_wh = [to_wh(items) for items in items_xywh]"
   ]
  },
  {
   "cell_type": "code",
   "execution_count": 5,
   "id": "f915e890-4d3d-4188-8ee6-36afa7adeb23",
   "metadata": {},
   "outputs": [
    {
     "data": {
      "image/png": "[encoded data removed]",
      "text/plain": [
       "<Figure size 720x360 with 2 Axes>"
      ]
     },
     "metadata": {
      "needs_background": "light"
     },
     "output_type": "display_data"
    }
   ],
   "source": [
    "fig, ax = plt.subplots(1, 2, figsize=(10, 5))\n",
    "for i, items in enumerate(items_wh):\n",
    "    draw_side_bar(items, ax=ax[i])"
   ]
  },
  {
   "cell_type": "code",
   "execution_count": 6,
   "id": "daeb280d-7628-4831-9893-61acb27288ba",
   "metadata": {},
   "outputs": [
    {
     "data": {
      "image/png": "[encoded data removed]",
      "text/plain": [
       "<Figure size 720x360 with 2 Axes>"
      ]
     },
     "metadata": {
      "needs_background": "light"
     },
     "output_type": "display_data"
    }
   ],
   "source": [
    "fig, ax = plt.subplots(1, 2, figsize=(10, 5))\n",
    "for i, items in enumerate(items_wh):\n",
    "    draw_items_cnt(items, ax=ax[i])"
   ]
  },
  {
   "cell_type": "code",
   "execution_count": null,
   "id": "cba8250c-3a6f-4c72-a7e8-3706c6fa98f3",
   "metadata": {
    "pycharm": {
     "is_executing": true
    }
   },
   "outputs": [
    {
     "name": "stdout",
     "output_type": "stream",
     "text": [
      "Running locally at: http://127.0.0.1:7860/\n",
      "To create a public link, set `share=True` in `launch()`.\n",
      "Interface loading below...\n"
     ]
    },
    {
     "data": {
      "text/html": [
       "\n",
       "        <iframe\n",
       "            width=\"900\"\n",
       "            height=\"500\"\n",
       "            src=\"http://127.0.0.1:7860/\"\n",
       "            frameborder=\"0\"\n",
       "            allowfullscreen\n",
       "        ></iframe>\n",
       "        "
      ],
      "text/plain": [
       "<IPython.lib.display.IFrame at 0xe6f7370>"
      ]
     },
     "metadata": {},
     "output_type": "display_data"
    }
   ],
   "source": [
    "lib = Library('../lib/libcpp.dll')\n",
    "\n",
    "algorithms = {'skyline': skyline_decode,\n",
    "              'annealing': lib.get_function('simulated_annealing_skyline_auto'),\n",
    "              'solver': task_one_model_adapter}\n",
    "\n",
    "def demo_draw(W=100, H=100, num_rect=20, min_side=5, gen_type=\"max\", random_seed=0, algorithm='none'):\n",
    "    if \"max\" == gen_type:\n",
    "        items_xywh = guillotine_cutting_max(W, H, num_rect, min_side, random_seed)\n",
    "    elif \"rand1\" == gen_type:\n",
    "        items_xywh = guillotine_cutting(W, H, num_rect, min_side, \"\", random_seed)\n",
    "    else:\n",
    "        items_xywh = guillotine_cutting(W, H, num_rect, min_side, \"equal\", random_seed)\n",
    "\n",
    "    fig1, ax1 = plt.subplots()\n",
    "    draw_cutting(H, W, items_xywh, ax=ax1)\n",
    "\n",
    "    items_wh = to_wh(items_xywh)\n",
    "\n",
    "    fig2, ax2 = plt.subplots()\n",
    "    draw_items_cnt(items_wh, ax=ax2)\n",
    "\n",
    "    fig3, ax3 = plt.subplots()\n",
    "    draw_side_bar(items_wh, ax=ax3)\n",
    "\n",
    "    result=W*H\n",
    "    fig4, ax4 = plt.subplots()\n",
    "    if algorithm!='none':\n",
    "        items_cl = [Item(int(it[0]), int(it[1])) for it in items_wh]\n",
    "        result,positions = algorithms[algorithm](int(W), int(H), items_cl)\n",
    "        positions_xywh = [(\n",
    "                pos.x,\n",
    "                pos.y,\n",
    "                it.width if not pos.rotated else it.height,\n",
    "                it.height if not pos.rotated else it.width\n",
    "                ) for it, pos in zip(items_cl, positions) if pos is not None]\n",
    "        draw_cutting(H, W, positions_xywh, ax=ax4)\n",
    "    info=f'Result is: {result} - {result/(W*H):.2%} of pallet is free'\n",
    "\n",
    "    plt.close()\n",
    "    return fig1, fig2, fig3, fig4,info\n",
    "\n",
    "\n",
    "iface = gr.Interface(fn=demo_draw,\n",
    "                     inputs=[\n",
    "                             gr.inputs.Number(default=100, label=\"Pallet Width\"),\n",
    "                             gr.inputs.Number(default=100, label=\"Pallet Height\"),\n",
    "                             gr.inputs.Number(default=20, label=\"Number of rectangles\"),\n",
    "                             gr.inputs.Number(default=5, label=\"Minimum side length\"),\n",
    "                             gr.inputs.Radio([\"max\", \"rand1\", \"rand2\"], default=\"max\", label=\"Generator type\"),\n",
    "                             gr.inputs.Number(default=0, label=\"Random seed\"),\n",
    "                             gr.inputs.Dropdown(['none']+list(algorithms.keys()),'value','none','Algorithm to solve')\n",
    "                             ],\n",
    "                     outputs=[\n",
    "                             gr.outputs.Image(type=\"plot\", label=\"Generated guillotine cutting\"),\n",
    "                             gr.outputs.Image(type=\"plot\", label=\"Rectangles bar\"),\n",
    "                             gr.outputs.Image(type=\"plot\", label=\"Side lenght bar\"),\n",
    "                             gr.outputs.Image(type=\"plot\", label=\"Algorithm result\"),\n",
    "                             gr.outputs.Textbox(label='Result')\n",
    "                             ],\n",
    "                     live=False,\n",
    "                     layout=\"unaligned\",\n",
    "                     title=\"Guillotine cutting demo\",\n",
    "                     verbose=True\n",
    "                     )\n",
    "\n",
    "iface.launch(debug = True)"
   ]
  },
  {
   "cell_type": "code",
   "execution_count": null,
   "id": "6f30ed52-0090-4f9e-8016-0727ee812928",
   "metadata": {},
   "outputs": [],
   "source": []
  }
 ],
 "metadata": {
  "kernelspec": {
   "display_name": "Python 3",
   "language": "python",
   "name": "python3"
  },
  "language_info": {
   "codemirror_mode": {
    "name": "ipython",
    "version": 3
   },
   "file_extension": ".py",
   "mimetype": "text/x-python",
   "name": "python",
   "nbconvert_exporter": "python",
   "pygments_lexer": "ipython3",
   "version": "3.9.6"
  }
 },
 "nbformat": 4,
 "nbformat_minor": 5
}
