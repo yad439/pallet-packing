{
 "cells": [
  {
   "cell_type": "code",
   "execution_count": 89,
   "metadata": {
    "collapsed": true
   },
   "outputs": [],
   "source": [
    "import math\n",
    "from collections import namedtuple\n",
    "from random import Random\n",
    "\n",
    "import pandas as pd\n",
    "\n",
    "from algorithm_wrappers import concat_placement\n",
    "from c_interop import Library\n",
    "from common import Item\n",
    "from data_analys.data_generator import guillotine_cutting, guillotine_cutting_max\n",
    "from ortools_models import task_one_model\n",
    "from problem_io import load_instance, save_instance\n",
    "from skyline import skyline_decode"
   ]
  },
  {
   "cell_type": "code",
   "execution_count": 2,
   "outputs": [],
   "source": [
    "# noinspection PyTypeChecker\n",
    "Instance = namedtuple('Instance', ['pallet_width', 'pallet_height', 'items'])"
   ],
   "metadata": {
    "collapsed": false,
    "pycharm": {
     "name": "#%%\n"
    }
   }
  },
  {
   "cell_type": "code",
   "execution_count": 48,
   "outputs": [],
   "source": [
    "gen_types = ['random', 'guillotine_rand', 'guillotine_equal', 'guillotine_max']\n",
    "\n",
    "\n",
    "def generate_instance(w: int, h: int, items_count: int, gen_type: str, seed: int = 1, min_side: int = 5,\n",
    "                      max_side: int = 20) -> Instance:\n",
    "    if gen_type == 'random':\n",
    "        rng = Random(seed)\n",
    "        return Instance(w, h, [Item(rng.randint(min_side, max_side), rng.randint(min_side, max_side)) for _ in\n",
    "                               range(items_count)])\n",
    "    if gen_type.startswith('guillotine'):\n",
    "        if gen_type == 'guillotine_rand':\n",
    "            items_xywh = guillotine_cutting(w, h, items_count, min_side, '', seed)\n",
    "        elif gen_type == 'guillotine_equal':\n",
    "            items_xywh = guillotine_cutting(w, h, items_count, min_side, seed=seed)\n",
    "        elif gen_type == 'guillotine_max':\n",
    "            items_xywh = guillotine_cutting_max(w, h, items_count, min_side, seed)\n",
    "        else:\n",
    "            assert False\n",
    "\n",
    "        items_wh = [(w, h) if w > h else (h, w)\n",
    "                    for x, y, w, h in items_xywh\n",
    "                    ]\n",
    "        items_cl = [Item(int(w), int(h)) for w, h in items_wh]\n",
    "        return Instance(w, h, items_cl)\n",
    "\n",
    "\n",
    "def generate_random(items_count: int, seed: int = 1, min_side: int = 5, max_side: int = 20) -> Instance:\n",
    "    rng = Random(seed)\n",
    "    items_cl = [Item(rng.randint(min_side, max_side), rng.randint(min_side, max_side)) for _ in range(items_count)]\n",
    "    area = sum(it.width * it.height for it in items_cl)\n",
    "    w = round(math.sqrt(area))\n",
    "    h = round(math.sqrt(area))\n",
    "    return Instance(w, h, items_cl)"
   ],
   "metadata": {
    "collapsed": false,
    "pycharm": {
     "name": "#%%\n"
    }
   }
  },
  {
   "cell_type": "code",
   "execution_count": 5,
   "outputs": [],
   "source": [
    "random_instances = [(gen_type, seed, generate_instance(100, 100, n, gen_type, seed)) for gen_type in gen_types for n in\n",
    "                    [10, 20, 50, 100] for seed in range(1)]"
   ],
   "metadata": {
    "collapsed": false,
    "pycharm": {
     "name": "#%%\n"
    }
   }
  },
  {
   "cell_type": "code",
   "execution_count": 51,
   "outputs": [],
   "source": [
    "add_random_instances = [('random', seed, generate_random(n, seed)) for n in [10, 20, 50, 100] for seed in [1]]"
   ],
   "metadata": {
    "collapsed": false,
    "pycharm": {
     "name": "#%%\n"
    }
   }
  },
  {
   "cell_type": "code",
   "execution_count": 53,
   "outputs": [],
   "source": [
    "for gen_type, seed, instance in add_random_instances:\n",
    "    save_instance(f'data/random/{gen_type}_{len(instance.items)}_{seed}.txt', *instance)"
   ],
   "metadata": {
    "collapsed": false,
    "pycharm": {
     "name": "#%%\n"
    }
   }
  },
  {
   "cell_type": "code",
   "execution_count": 13,
   "outputs": [],
   "source": [
    "problems = []\n",
    "for gen_type in gen_types:\n",
    "    for n in [10, 20, 50, 100]:\n",
    "        for seed in [0]:\n",
    "            path = f'data/random/{gen_type}_{n}_{seed}.txt'\n",
    "            problems.append((gen_type, path, Instance(*load_instance(path))))"
   ],
   "metadata": {
    "collapsed": false,
    "pycharm": {
     "name": "#%%\n"
    }
   }
  },
  {
   "cell_type": "code",
   "execution_count": 54,
   "outputs": [],
   "source": [
    "problems = []\n",
    "for gen_type in ['random']:\n",
    "    for n in [10, 20, 50, 100]:\n",
    "        for seed in [1]:\n",
    "            path = f'data/random/{gen_type}_{n}_{seed}.txt'\n",
    "            problems.append((gen_type, path, Instance(*load_instance(path))))"
   ],
   "metadata": {
    "collapsed": false,
    "pycharm": {
     "name": "#%%\n"
    }
   }
  },
  {
   "cell_type": "code",
   "execution_count": 18,
   "outputs": [],
   "source": [
    "gens, files, instances = zip(*problems)\n",
    "dataframe = pd.DataFrame(zip(gens, files), columns=['Generator type', 'File'])"
   ],
   "metadata": {
    "collapsed": false,
    "pycharm": {
     "name": "#%%\n"
    }
   }
  },
  {
   "cell_type": "code",
   "execution_count": 67,
   "outputs": [],
   "source": [
    "for gen, file, inst in problems:\n",
    "    alg_count = len(dataframe.columns) - 2\n",
    "    new_row = pd.Series({'Generator type': gen, 'File': file})\n",
    "    dataframe = dataframe.append(new_row, ignore_index=True)"
   ],
   "metadata": {
    "collapsed": false,
    "pycharm": {
     "name": "#%%\n"
    }
   }
  },
  {
   "cell_type": "code",
   "execution_count": 98,
   "outputs": [],
   "source": [
    "dataframe.to_csv('data/results.csv', index=False)"
   ],
   "metadata": {
    "collapsed": false,
    "pycharm": {
     "name": "#%%\n"
    }
   }
  },
  {
   "cell_type": "code",
   "execution_count": 108,
   "outputs": [],
   "source": [
    "dataframe = pd.read_csv('data/results.csv')\n",
    "# noinspection PyRedeclaration\n",
    "instances = [Instance(*load_instance(file)) for file in dataframe['File']]"
   ],
   "metadata": {
    "collapsed": false,
    "pycharm": {
     "name": "#%%\n"
    }
   }
  },
  {
   "cell_type": "code",
   "execution_count": 102,
   "outputs": [],
   "source": [
    "algorithms = ['Skyline', 'Skyline sorted', 'Concat', 'Annealing']\n",
    "df_values = ['Solver solution', 'Solver bound'] + algorithms"
   ],
   "metadata": {
    "collapsed": false,
    "pycharm": {
     "name": "#%%\n"
    }
   }
  },
  {
   "cell_type": "code",
   "execution_count": null,
   "outputs": [],
   "source": [
    "# dataframe['Solver solution']=[pd.NA]*len(dataframe)\n",
    "# dataframe['Solver bound']=[pd.NA]*len(dataframe)\n",
    "# dataframe['Skyline']=[pd.NA]*len(dataframe)\n",
    "# dataframe['Skyline sorted']=[pd.NA]*len(dataframe)\n",
    "# dataframe['Concat']=[pd.NA]*len(dataframe)\n",
    "# dataframe['Annealing skyline']=[pd.NA]*len(dataframe)"
   ],
   "metadata": {
    "collapsed": false,
    "pycharm": {
     "name": "#%%\n"
    }
   }
  },
  {
   "cell_type": "code",
   "execution_count": 85,
   "outputs": [
    {
     "name": "stdout",
     "output_type": "stream",
     "text": [
      "Computing 16\n",
      "Computing 17\n",
      "Computing 18\n",
      "Computing 19\n"
     ]
    }
   ],
   "source": [
    "for i in range(len(dataframe)):\n",
    "    if pd.isnull(dataframe['Solver bound'][i]):\n",
    "        inst = instances[i]\n",
    "        print('Computing', i)\n",
    "        _, obj, bound, _ = task_one_model(inst.pallet_width, inst.pallet_height, inst.items, limit=5 * 60 * 1000,\n",
    "                                          backend='Gurobi')\n",
    "        dataframe.at[i, 'Solver solution'] = obj\n",
    "        dataframe.at[i, 'Solver bound'] = bound"
   ],
   "metadata": {
    "collapsed": false,
    "pycharm": {
     "name": "#%%\n"
    }
   }
  },
  {
   "cell_type": "code",
   "execution_count": 80,
   "outputs": [],
   "source": [
    "for i in range(len(dataframe)):\n",
    "    if pd.isnull(dataframe['Skyline'][i]):\n",
    "        inst = instances[i]\n",
    "        result, _ = skyline_decode(*inst)\n",
    "        dataframe.at[i, 'Skyline'] = result"
   ],
   "metadata": {
    "collapsed": false,
    "pycharm": {
     "name": "#%%\n"
    }
   }
  },
  {
   "cell_type": "code",
   "execution_count": 82,
   "outputs": [],
   "source": [
    "for i in range(len(dataframe)):\n",
    "    if pd.isnull(dataframe['Skyline sorted'][i]):\n",
    "        inst = instances[i]\n",
    "        items = inst.items\n",
    "        order = list(range(len(items)))\n",
    "        order.sort(key=lambda j: items[j].height * items[j].width, reverse=True)\n",
    "        result, _ = skyline_decode(*inst, order)\n",
    "        dataframe.at[i, 'Skyline sorted'] = result"
   ],
   "metadata": {
    "collapsed": false,
    "pycharm": {
     "name": "#%%\n"
    }
   }
  },
  {
   "cell_type": "code",
   "execution_count": 83,
   "outputs": [],
   "source": [
    "for i in range(len(dataframe)):\n",
    "    if pd.isnull(dataframe['Concat'][i]):\n",
    "        inst = instances[i]\n",
    "        result, _ = concat_placement(*inst)\n",
    "        dataframe.at[i, 'Concat'] = result"
   ],
   "metadata": {
    "collapsed": false,
    "pycharm": {
     "name": "#%%\n"
    }
   }
  },
  {
   "cell_type": "code",
   "execution_count": 90,
   "outputs": [],
   "source": [
    "lib = Library('lib/libcpp.dll')\n",
    "annealing = lib.simulated_annealing"
   ],
   "metadata": {
    "collapsed": false,
    "pycharm": {
     "name": "#%%\n"
    }
   }
  },
  {
   "cell_type": "code",
   "execution_count": 92,
   "outputs": [
    {
     "name": "stdout",
     "output_type": "stream",
     "text": [
      "Computing 0\n",
      "Computing 1\n",
      "Computing 2\n",
      "Computing 3\n",
      "Computing 4\n",
      "Computing 5\n",
      "Computing 6\n",
      "Computing 7\n",
      "Computing 8\n",
      "Computing 9\n",
      "Computing 10\n",
      "Computing 11\n",
      "Computing 12\n",
      "Computing 13\n",
      "Computing 14\n",
      "Computing 15\n",
      "Computing 16\n",
      "Computing 17\n",
      "Computing 18\n",
      "Computing 19\n"
     ]
    }
   ],
   "source": [
    "for i in range(len(dataframe)):\n",
    "    if pd.isnull(dataframe['Annealing skyline'][i]):\n",
    "        inst = instances[i]\n",
    "        power = max(max(it.width * it.height for it in inst.items), inst.pallet_width * inst.pallet_height / 4)\n",
    "        print('Computing', i)\n",
    "        result, _ = annealing(*inst, steps=10 ** 6, power=power)\n",
    "        dataframe.at[i, 'Annealing skyline'] = result"
   ],
   "metadata": {
    "collapsed": false,
    "pycharm": {
     "name": "#%%\n"
    }
   }
  },
  {
   "cell_type": "code",
   "execution_count": 99,
   "outputs": [
    {
     "data": {
      "text/plain": "      Generator type                                    File  Solver solution  \\\n0             random             data/random/random_10_0.txt           8288.0   \n1             random             data/random/random_20_0.txt           6540.0   \n2             random             data/random/random_50_0.txt           2181.0   \n3             random            data/random/random_100_0.txt           1734.0   \n4    guillotine_rand    data/random/guillotine_rand_10_0.txt              0.0   \n5    guillotine_rand    data/random/guillotine_rand_20_0.txt            368.0   \n6    guillotine_rand    data/random/guillotine_rand_50_0.txt            897.0   \n7    guillotine_rand   data/random/guillotine_rand_100_0.txt           1739.0   \n8   guillotine_equal   data/random/guillotine_equal_10_0.txt              0.0   \n9   guillotine_equal   data/random/guillotine_equal_20_0.txt            462.0   \n10  guillotine_equal   data/random/guillotine_equal_50_0.txt            964.0   \n11  guillotine_equal  data/random/guillotine_equal_100_0.txt           2324.0   \n12    guillotine_max     data/random/guillotine_max_10_0.txt              0.0   \n13    guillotine_max     data/random/guillotine_max_20_0.txt            288.0   \n14    guillotine_max     data/random/guillotine_max_50_0.txt           1046.0   \n15    guillotine_max    data/random/guillotine_max_100_0.txt           1457.0   \n16            random             data/random/random_10_1.txt             75.0   \n17            random             data/random/random_20_1.txt             99.0   \n18            random             data/random/random_50_1.txt            827.0   \n19            random            data/random/random_100_1.txt           3463.0   \n\n    Solver bound  Skyline  Skyline sorted  Concat Annealing skyline  \n0         8288.0     8288            8288    8568              8288  \n1         6540.0     6540            6540    6540              6540  \n2         2181.0     2181            2181    2181              2181  \n3        -5285.0       93              29      88                 0  \n4            0.0        0               0       0                 0  \n5            0.0     2258             775     187               143  \n6            0.0      490             286    1026                50  \n7            0.0      364             431     648                 0  \n8            0.0        0               0       0                 0  \n9            0.0     1232             958    1646                 0  \n10           0.0     1060             440     695                80  \n11           0.0      690             316     420                25  \n12           0.0     1170            1512       0                 0  \n13           0.0     1710             618    1332                 0  \n14           0.0      759             506     774                81  \n15           0.0      361             315     329                 0  \n16          75.0      474             163     318                75  \n17         -45.0      183             108     423                18  \n18         -67.0      885             338     509                33  \n19          68.0      701             248     905                68  ",
      "text/html": "<div>\n<style scoped>\n    .dataframe tbody tr th:only-of-type {\n        vertical-align: middle;\n    }\n\n    .dataframe tbody tr th {\n        vertical-align: top;\n    }\n\n    .dataframe thead th {\n        text-align: right;\n    }\n</style>\n<table border=\"1\" class=\"dataframe\">\n  <thead>\n    <tr style=\"text-align: right;\">\n      <th></th>\n      <th>Generator type</th>\n      <th>File</th>\n      <th>Solver solution</th>\n      <th>Solver bound</th>\n      <th>Skyline</th>\n      <th>Skyline sorted</th>\n      <th>Concat</th>\n      <th>Annealing skyline</th>\n    </tr>\n  </thead>\n  <tbody>\n    <tr>\n      <th>0</th>\n      <td>random</td>\n      <td>data/random/random_10_0.txt</td>\n      <td>8288.0</td>\n      <td>8288.0</td>\n      <td>8288</td>\n      <td>8288</td>\n      <td>8568</td>\n      <td>8288</td>\n    </tr>\n    <tr>\n      <th>1</th>\n      <td>random</td>\n      <td>data/random/random_20_0.txt</td>\n      <td>6540.0</td>\n      <td>6540.0</td>\n      <td>6540</td>\n      <td>6540</td>\n      <td>6540</td>\n      <td>6540</td>\n    </tr>\n    <tr>\n      <th>2</th>\n      <td>random</td>\n      <td>data/random/random_50_0.txt</td>\n      <td>2181.0</td>\n      <td>2181.0</td>\n      <td>2181</td>\n      <td>2181</td>\n      <td>2181</td>\n      <td>2181</td>\n    </tr>\n    <tr>\n      <th>3</th>\n      <td>random</td>\n      <td>data/random/random_100_0.txt</td>\n      <td>1734.0</td>\n      <td>-5285.0</td>\n      <td>93</td>\n      <td>29</td>\n      <td>88</td>\n      <td>0</td>\n    </tr>\n    <tr>\n      <th>4</th>\n      <td>guillotine_rand</td>\n      <td>data/random/guillotine_rand_10_0.txt</td>\n      <td>0.0</td>\n      <td>0.0</td>\n      <td>0</td>\n      <td>0</td>\n      <td>0</td>\n      <td>0</td>\n    </tr>\n    <tr>\n      <th>5</th>\n      <td>guillotine_rand</td>\n      <td>data/random/guillotine_rand_20_0.txt</td>\n      <td>368.0</td>\n      <td>0.0</td>\n      <td>2258</td>\n      <td>775</td>\n      <td>187</td>\n      <td>143</td>\n    </tr>\n    <tr>\n      <th>6</th>\n      <td>guillotine_rand</td>\n      <td>data/random/guillotine_rand_50_0.txt</td>\n      <td>897.0</td>\n      <td>0.0</td>\n      <td>490</td>\n      <td>286</td>\n      <td>1026</td>\n      <td>50</td>\n    </tr>\n    <tr>\n      <th>7</th>\n      <td>guillotine_rand</td>\n      <td>data/random/guillotine_rand_100_0.txt</td>\n      <td>1739.0</td>\n      <td>0.0</td>\n      <td>364</td>\n      <td>431</td>\n      <td>648</td>\n      <td>0</td>\n    </tr>\n    <tr>\n      <th>8</th>\n      <td>guillotine_equal</td>\n      <td>data/random/guillotine_equal_10_0.txt</td>\n      <td>0.0</td>\n      <td>0.0</td>\n      <td>0</td>\n      <td>0</td>\n      <td>0</td>\n      <td>0</td>\n    </tr>\n    <tr>\n      <th>9</th>\n      <td>guillotine_equal</td>\n      <td>data/random/guillotine_equal_20_0.txt</td>\n      <td>462.0</td>\n      <td>0.0</td>\n      <td>1232</td>\n      <td>958</td>\n      <td>1646</td>\n      <td>0</td>\n    </tr>\n    <tr>\n      <th>10</th>\n      <td>guillotine_equal</td>\n      <td>data/random/guillotine_equal_50_0.txt</td>\n      <td>964.0</td>\n      <td>0.0</td>\n      <td>1060</td>\n      <td>440</td>\n      <td>695</td>\n      <td>80</td>\n    </tr>\n    <tr>\n      <th>11</th>\n      <td>guillotine_equal</td>\n      <td>data/random/guillotine_equal_100_0.txt</td>\n      <td>2324.0</td>\n      <td>0.0</td>\n      <td>690</td>\n      <td>316</td>\n      <td>420</td>\n      <td>25</td>\n    </tr>\n    <tr>\n      <th>12</th>\n      <td>guillotine_max</td>\n      <td>data/random/guillotine_max_10_0.txt</td>\n      <td>0.0</td>\n      <td>0.0</td>\n      <td>1170</td>\n      <td>1512</td>\n      <td>0</td>\n      <td>0</td>\n    </tr>\n    <tr>\n      <th>13</th>\n      <td>guillotine_max</td>\n      <td>data/random/guillotine_max_20_0.txt</td>\n      <td>288.0</td>\n      <td>0.0</td>\n      <td>1710</td>\n      <td>618</td>\n      <td>1332</td>\n      <td>0</td>\n    </tr>\n    <tr>\n      <th>14</th>\n      <td>guillotine_max</td>\n      <td>data/random/guillotine_max_50_0.txt</td>\n      <td>1046.0</td>\n      <td>0.0</td>\n      <td>759</td>\n      <td>506</td>\n      <td>774</td>\n      <td>81</td>\n    </tr>\n    <tr>\n      <th>15</th>\n      <td>guillotine_max</td>\n      <td>data/random/guillotine_max_100_0.txt</td>\n      <td>1457.0</td>\n      <td>0.0</td>\n      <td>361</td>\n      <td>315</td>\n      <td>329</td>\n      <td>0</td>\n    </tr>\n    <tr>\n      <th>16</th>\n      <td>random</td>\n      <td>data/random/random_10_1.txt</td>\n      <td>75.0</td>\n      <td>75.0</td>\n      <td>474</td>\n      <td>163</td>\n      <td>318</td>\n      <td>75</td>\n    </tr>\n    <tr>\n      <th>17</th>\n      <td>random</td>\n      <td>data/random/random_20_1.txt</td>\n      <td>99.0</td>\n      <td>-45.0</td>\n      <td>183</td>\n      <td>108</td>\n      <td>423</td>\n      <td>18</td>\n    </tr>\n    <tr>\n      <th>18</th>\n      <td>random</td>\n      <td>data/random/random_50_1.txt</td>\n      <td>827.0</td>\n      <td>-67.0</td>\n      <td>885</td>\n      <td>338</td>\n      <td>509</td>\n      <td>33</td>\n    </tr>\n    <tr>\n      <th>19</th>\n      <td>random</td>\n      <td>data/random/random_100_1.txt</td>\n      <td>3463.0</td>\n      <td>68.0</td>\n      <td>701</td>\n      <td>248</td>\n      <td>905</td>\n      <td>68</td>\n    </tr>\n  </tbody>\n</table>\n</div>"
     },
     "execution_count": 99,
     "metadata": {},
     "output_type": "execute_result"
    }
   ],
   "source": [
    "dataframe"
   ],
   "metadata": {
    "collapsed": false,
    "pycharm": {
     "name": "#%%\n"
    }
   }
  },
  {
   "cell_type": "code",
   "execution_count": null,
   "outputs": [],
   "source": [
    "def form(x, area):\n",
    "    if isinstance(x, int) or isinstance(x, float):\n",
    "        return f'{x / area:.2%}'\n",
    "    else:\n",
    "        return x"
   ],
   "metadata": {
    "collapsed": false,
    "pycharm": {
     "name": "#%%\n"
    }
   }
  },
  {
   "cell_type": "code",
   "execution_count": 107,
   "outputs": [
    {
     "data": {
      "text/plain": "      Generator type                                    File Solver solution  \\\n0             random             data/random/random_10_0.txt          82.88%   \n1             random             data/random/random_20_0.txt          65.40%   \n2             random             data/random/random_50_0.txt          21.81%   \n3             random            data/random/random_100_0.txt          17.34%   \n4    guillotine_rand    data/random/guillotine_rand_10_0.txt           0.00%   \n5    guillotine_rand    data/random/guillotine_rand_20_0.txt           3.68%   \n6    guillotine_rand    data/random/guillotine_rand_50_0.txt           8.97%   \n7    guillotine_rand   data/random/guillotine_rand_100_0.txt          17.39%   \n8   guillotine_equal   data/random/guillotine_equal_10_0.txt           0.00%   \n9   guillotine_equal   data/random/guillotine_equal_20_0.txt           4.62%   \n10  guillotine_equal   data/random/guillotine_equal_50_0.txt           9.64%   \n11  guillotine_equal  data/random/guillotine_equal_100_0.txt          23.24%   \n12    guillotine_max     data/random/guillotine_max_10_0.txt           0.00%   \n13    guillotine_max     data/random/guillotine_max_20_0.txt           2.88%   \n14    guillotine_max     data/random/guillotine_max_50_0.txt          10.46%   \n15    guillotine_max    data/random/guillotine_max_100_0.txt          14.57%   \n16            random             data/random/random_10_1.txt           4.25%   \n17            random             data/random/random_20_1.txt           3.16%   \n18            random             data/random/random_50_1.txt           9.77%   \n19            random            data/random/random_100_1.txt          21.81%   \n\n   Solver bound Skyline Skyline sorted  Concat Annealing skyline  \n0        82.88%  82.88%         82.88%  85.68%            82.88%  \n1        65.40%  65.40%         65.40%  65.40%            65.40%  \n2        21.81%  21.81%         21.81%  21.81%            21.81%  \n3       -52.85%   0.93%          0.29%   0.88%             0.00%  \n4         0.00%   0.00%          0.00%   0.00%             0.00%  \n5         0.00%  22.58%          7.75%   1.87%             1.43%  \n6         0.00%   4.90%          2.86%  10.26%             0.50%  \n7         0.00%   3.64%          4.31%   6.48%             0.00%  \n8         0.00%   0.00%          0.00%   0.00%             0.00%  \n9         0.00%  12.32%          9.58%  16.46%             0.00%  \n10        0.00%  10.60%          4.40%   6.95%             0.80%  \n11        0.00%   6.90%          3.16%   4.20%             0.25%  \n12        0.00%  11.70%         15.12%   0.00%             0.00%  \n13        0.00%  17.10%          6.18%  13.32%             0.00%  \n14        0.00%   7.59%          5.06%   7.74%             0.81%  \n15        0.00%   3.61%          3.15%   3.29%             0.00%  \n16        4.25%  26.87%          9.24%  18.03%             4.25%  \n17       -1.43%   5.84%          3.44%  13.49%             0.57%  \n18       -0.79%  10.46%          3.99%   6.01%             0.39%  \n19        0.43%   4.42%          1.56%   5.70%             0.43%  ",
      "text/html": "<div>\n<style scoped>\n    .dataframe tbody tr th:only-of-type {\n        vertical-align: middle;\n    }\n\n    .dataframe tbody tr th {\n        vertical-align: top;\n    }\n\n    .dataframe thead th {\n        text-align: right;\n    }\n</style>\n<table border=\"1\" class=\"dataframe\">\n  <thead>\n    <tr style=\"text-align: right;\">\n      <th></th>\n      <th>Generator type</th>\n      <th>File</th>\n      <th>Solver solution</th>\n      <th>Solver bound</th>\n      <th>Skyline</th>\n      <th>Skyline sorted</th>\n      <th>Concat</th>\n      <th>Annealing skyline</th>\n    </tr>\n  </thead>\n  <tbody>\n    <tr>\n      <th>0</th>\n      <td>random</td>\n      <td>data/random/random_10_0.txt</td>\n      <td>82.88%</td>\n      <td>82.88%</td>\n      <td>82.88%</td>\n      <td>82.88%</td>\n      <td>85.68%</td>\n      <td>82.88%</td>\n    </tr>\n    <tr>\n      <th>1</th>\n      <td>random</td>\n      <td>data/random/random_20_0.txt</td>\n      <td>65.40%</td>\n      <td>65.40%</td>\n      <td>65.40%</td>\n      <td>65.40%</td>\n      <td>65.40%</td>\n      <td>65.40%</td>\n    </tr>\n    <tr>\n      <th>2</th>\n      <td>random</td>\n      <td>data/random/random_50_0.txt</td>\n      <td>21.81%</td>\n      <td>21.81%</td>\n      <td>21.81%</td>\n      <td>21.81%</td>\n      <td>21.81%</td>\n      <td>21.81%</td>\n    </tr>\n    <tr>\n      <th>3</th>\n      <td>random</td>\n      <td>data/random/random_100_0.txt</td>\n      <td>17.34%</td>\n      <td>-52.85%</td>\n      <td>0.93%</td>\n      <td>0.29%</td>\n      <td>0.88%</td>\n      <td>0.00%</td>\n    </tr>\n    <tr>\n      <th>4</th>\n      <td>guillotine_rand</td>\n      <td>data/random/guillotine_rand_10_0.txt</td>\n      <td>0.00%</td>\n      <td>0.00%</td>\n      <td>0.00%</td>\n      <td>0.00%</td>\n      <td>0.00%</td>\n      <td>0.00%</td>\n    </tr>\n    <tr>\n      <th>5</th>\n      <td>guillotine_rand</td>\n      <td>data/random/guillotine_rand_20_0.txt</td>\n      <td>3.68%</td>\n      <td>0.00%</td>\n      <td>22.58%</td>\n      <td>7.75%</td>\n      <td>1.87%</td>\n      <td>1.43%</td>\n    </tr>\n    <tr>\n      <th>6</th>\n      <td>guillotine_rand</td>\n      <td>data/random/guillotine_rand_50_0.txt</td>\n      <td>8.97%</td>\n      <td>0.00%</td>\n      <td>4.90%</td>\n      <td>2.86%</td>\n      <td>10.26%</td>\n      <td>0.50%</td>\n    </tr>\n    <tr>\n      <th>7</th>\n      <td>guillotine_rand</td>\n      <td>data/random/guillotine_rand_100_0.txt</td>\n      <td>17.39%</td>\n      <td>0.00%</td>\n      <td>3.64%</td>\n      <td>4.31%</td>\n      <td>6.48%</td>\n      <td>0.00%</td>\n    </tr>\n    <tr>\n      <th>8</th>\n      <td>guillotine_equal</td>\n      <td>data/random/guillotine_equal_10_0.txt</td>\n      <td>0.00%</td>\n      <td>0.00%</td>\n      <td>0.00%</td>\n      <td>0.00%</td>\n      <td>0.00%</td>\n      <td>0.00%</td>\n    </tr>\n    <tr>\n      <th>9</th>\n      <td>guillotine_equal</td>\n      <td>data/random/guillotine_equal_20_0.txt</td>\n      <td>4.62%</td>\n      <td>0.00%</td>\n      <td>12.32%</td>\n      <td>9.58%</td>\n      <td>16.46%</td>\n      <td>0.00%</td>\n    </tr>\n    <tr>\n      <th>10</th>\n      <td>guillotine_equal</td>\n      <td>data/random/guillotine_equal_50_0.txt</td>\n      <td>9.64%</td>\n      <td>0.00%</td>\n      <td>10.60%</td>\n      <td>4.40%</td>\n      <td>6.95%</td>\n      <td>0.80%</td>\n    </tr>\n    <tr>\n      <th>11</th>\n      <td>guillotine_equal</td>\n      <td>data/random/guillotine_equal_100_0.txt</td>\n      <td>23.24%</td>\n      <td>0.00%</td>\n      <td>6.90%</td>\n      <td>3.16%</td>\n      <td>4.20%</td>\n      <td>0.25%</td>\n    </tr>\n    <tr>\n      <th>12</th>\n      <td>guillotine_max</td>\n      <td>data/random/guillotine_max_10_0.txt</td>\n      <td>0.00%</td>\n      <td>0.00%</td>\n      <td>11.70%</td>\n      <td>15.12%</td>\n      <td>0.00%</td>\n      <td>0.00%</td>\n    </tr>\n    <tr>\n      <th>13</th>\n      <td>guillotine_max</td>\n      <td>data/random/guillotine_max_20_0.txt</td>\n      <td>2.88%</td>\n      <td>0.00%</td>\n      <td>17.10%</td>\n      <td>6.18%</td>\n      <td>13.32%</td>\n      <td>0.00%</td>\n    </tr>\n    <tr>\n      <th>14</th>\n      <td>guillotine_max</td>\n      <td>data/random/guillotine_max_50_0.txt</td>\n      <td>10.46%</td>\n      <td>0.00%</td>\n      <td>7.59%</td>\n      <td>5.06%</td>\n      <td>7.74%</td>\n      <td>0.81%</td>\n    </tr>\n    <tr>\n      <th>15</th>\n      <td>guillotine_max</td>\n      <td>data/random/guillotine_max_100_0.txt</td>\n      <td>14.57%</td>\n      <td>0.00%</td>\n      <td>3.61%</td>\n      <td>3.15%</td>\n      <td>3.29%</td>\n      <td>0.00%</td>\n    </tr>\n    <tr>\n      <th>16</th>\n      <td>random</td>\n      <td>data/random/random_10_1.txt</td>\n      <td>4.25%</td>\n      <td>4.25%</td>\n      <td>26.87%</td>\n      <td>9.24%</td>\n      <td>18.03%</td>\n      <td>4.25%</td>\n    </tr>\n    <tr>\n      <th>17</th>\n      <td>random</td>\n      <td>data/random/random_20_1.txt</td>\n      <td>3.16%</td>\n      <td>-1.43%</td>\n      <td>5.84%</td>\n      <td>3.44%</td>\n      <td>13.49%</td>\n      <td>0.57%</td>\n    </tr>\n    <tr>\n      <th>18</th>\n      <td>random</td>\n      <td>data/random/random_50_1.txt</td>\n      <td>9.77%</td>\n      <td>-0.79%</td>\n      <td>10.46%</td>\n      <td>3.99%</td>\n      <td>6.01%</td>\n      <td>0.39%</td>\n    </tr>\n    <tr>\n      <th>19</th>\n      <td>random</td>\n      <td>data/random/random_100_1.txt</td>\n      <td>21.81%</td>\n      <td>0.43%</td>\n      <td>4.42%</td>\n      <td>1.56%</td>\n      <td>5.70%</td>\n      <td>0.43%</td>\n    </tr>\n  </tbody>\n</table>\n</div>"
     },
     "execution_count": 107,
     "metadata": {},
     "output_type": "execute_result"
    }
   ],
   "source": [
    "dataframe.apply(lambda r, ind: r.apply(form, args=(ind[r.name].pallet_width * ind[r.name].pallet_height,)),\n",
    "                args=(instances,), axis=1)"
   ],
   "metadata": {
    "collapsed": false,
    "pycharm": {
     "name": "#%%\n"
    }
   }
  }
 ],
 "metadata": {
  "kernelspec": {
   "display_name": "Python 3",
   "language": "python",
   "name": "python3"
  },
  "language_info": {
   "codemirror_mode": {
    "name": "ipython",
    "version": 2
   },
   "file_extension": ".py",
   "mimetype": "text/x-python",
   "name": "python",
   "nbconvert_exporter": "python",
   "pygments_lexer": "ipython2",
   "version": "2.7.6"
  }
 },
 "nbformat": 4,
 "nbformat_minor": 0
}